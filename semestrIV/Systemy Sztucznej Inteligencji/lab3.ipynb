{
 "cells": [
  {
   "cell_type": "code",
   "execution_count": 1,
   "metadata": {},
   "outputs": [],
   "source": [
    "import pandas as pd\n",
    "from enum import Enum"
   ]
  },
  {
   "cell_type": "code",
   "execution_count": 10,
   "metadata": {},
   "outputs": [
    {
     "name": "stdout",
     "output_type": "stream",
     "text": [
      "[2.0, 'Truskawki']\n",
      "[2.0, 'Winogrona']\n",
      "[3.0, 'Jabłko']\n"
     ]
    }
   ],
   "source": [
    "class fruitsAndVegetables():\n",
    "    def __init__(self):\n",
    "        self.df = pd.read_csv(\"stragan.csv\")\n",
    "        self.dictOfTypes = {}\n",
    "        for i, v in enumerate(self.df.columns[1:]):\n",
    "            self.dictOfTypes[v] = i\n",
    "    def getBestFit(self, weights:list) -> list:\n",
    "        self.listOfStringsToValues(weights)\n",
    "        result = []\n",
    "        for v in self.df.values:\n",
    "            result.append([sum(v[1:]*self.weights), v[0]])\n",
    "        result.sort(key=lambda x:-x[0])\n",
    "        print(result[0])\n",
    "    def listOfStringsToValues(self, types:str):\n",
    "        self.weights = []\n",
    "        for i in self.dictOfTypes.keys():\n",
    "            if i in types:\n",
    "                self.weights.append(1)\n",
    "            else:\n",
    "                self.weights.append(0)\n",
    "test = fruitsAndVegetables()\n",
    "test.getBestFit([\"czerwone\",\"mrożone\"])\n",
    "test.getBestFit([\"zielone\",\"świeże\"])\n",
    "test.getBestFit([\"czerwone\",\"świeże\",\"słodkie\"])"
   ]
  }
 ],
 "metadata": {
  "interpreter": {
   "hash": "b3ba2566441a7c06988d0923437866b63cedc61552a5af99d1f4fb67d367b25f"
  },
  "kernelspec": {
   "display_name": "Python 3.9.7 ('base')",
   "language": "python",
   "name": "python3"
  },
  "language_info": {
   "codemirror_mode": {
    "name": "ipython",
    "version": 3
   },
   "file_extension": ".py",
   "mimetype": "text/x-python",
   "name": "python",
   "nbconvert_exporter": "python",
   "pygments_lexer": "ipython3",
   "version": "3.9.7"
  },
  "orig_nbformat": 4
 },
 "nbformat": 4,
 "nbformat_minor": 2
}
