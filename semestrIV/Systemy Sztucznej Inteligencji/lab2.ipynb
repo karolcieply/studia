{
 "cells": [
  {
   "cell_type": "code",
   "execution_count": null,
   "metadata": {
    "pycharm": {
     "name": "#%%\n",
     "is_executing": true
    }
   },
   "outputs": [],
   "source": [
    "import pandas as pd\n",
    "import numpy as np\n",
    "import random"
   ]
  },
  {
   "cell_type": "code",
   "execution_count": 2,
   "metadata": {
    "pycharm": {
     "name": "#%%\n"
    }
   },
   "outputs": [],
   "source": [
    "class ProcessingData:\n",
    "    @staticmethod\n",
    "    def shuffleDF(df: pd.DataFrame) -> pd.DataFrame:\n",
    "        for i in range(len(df)):\n",
    "            rand= (random.randint(i,len(df)-1))\n",
    "            temp = df.iloc[i].copy()\n",
    "            df.iloc[i] = df.iloc[rand]\n",
    "            df.iloc[rand] = temp\n",
    "        return df\n",
    "        # return df.sample(frac=1)\n",
    "    @staticmethod\n",
    "    def normalizeDF(df: pd.DataFrame, columnNames: list) -> pd.DataFrame:\n",
    "        for columnName in columnNames:\n",
    "            df[columnName] = (df[columnName]-df[columnName].min())/(df[columnName].max()-df[columnName].min())\n",
    "        return df\n",
    "    @staticmethod\n",
    "    def splitDF(df: pd.DataFrame) -> pd.DataFrame:\n",
    "        trainIndexes = random.sample(range(1, len(df)), len(df)//3)\n",
    "        train_X = pd.DataFrame(columns=df.columns)\n",
    "        test_X = pd.DataFrame(columns=df.columns)\n",
    "        for i in range(len(df)):\n",
    "            if i in trainIndexes:\n",
    "                train_X = train_X.append(df.iloc[i])\n",
    "            else:\n",
    "                test_X = test_X.append(df.iloc[i])\n",
    "\n",
    "        return test_X, train_X\n",
    "        #return train_test_split(df)"
   ]
  },
  {
   "cell_type": "code",
   "execution_count": 3,
   "metadata": {
    "pycharm": {
     "name": "#%%\n"
    }
   },
   "outputs": [],
   "source": [
    "class KNN:\n",
    "    def __init__(self, m: int, k: int):\n",
    "        self.m = m\n",
    "        self.k = k\n",
    "\n",
    "    @staticmethod\n",
    "    def dst(x: np.array, y: np.array, m: int) -> float:\n",
    "        return sum([(abs(xi-yi)**m)\n",
    "                    for xi,yi in zip(x,y)])**(1/m)\n",
    "\n",
    "    def fit(self, df: pd.DataFrame):\n",
    "        self.df = df\n",
    "    \n",
    "    def predict(self, point: pd.DataFrame) -> str:\n",
    "        types = {}\n",
    "        for v in pd.unique(df[\"variety\"]):\n",
    "            types[v] = 0\n",
    "        result = []\n",
    "        for sample in self.df.values:\n",
    "            result.append([KNN.dst(sample[:-1], point, self.m), sample[-1]])\n",
    "        result.sort(key=lambda x:x[0])\n",
    "        for i in range(self.k):\n",
    "            types[result[i][1]] += 1\n",
    "        return max(types, key=types.get)\n",
    "    \n",
    "    def score(self, test_X: pd.DataFrame) -> float:\n",
    "        good = 0\n",
    "        bad = 0\n",
    "        for sample in test_X.values:\n",
    "            if (x:=self.predict(sample)) == sample[-1]:\n",
    "                good += 1\n",
    "            else:\n",
    "                bad +=1\n",
    "        return good/(bad+good)*100"
   ]
  },
  {
   "cell_type": "code",
   "execution_count": 11,
   "metadata": {
    "pycharm": {
     "name": "#%%\n"
    }
   },
   "outputs": [
    {
     "name": "stdout",
     "output_type": "stream",
     "text": [
      "\n",
      "   sepal.length  sepal.width  petal.length  petal.width     variety\n",
      "0      0.583333     0.333333      0.779661     0.875000   Virginica\n",
      "1      0.944444     0.416667      0.864407     0.916667   Virginica\n",
      "2      0.305556     0.583333      0.118644     0.041667      Setosa\n",
      "3      0.027778     0.375000      0.067797     0.041667      Setosa\n",
      "4      0.444444     0.500000      0.644068     0.708333  Versicolor\n",
      "len(train_X):50\n",
      "len(test_X):100\n",
      "for k=2 score: 94.94949494949495\n",
      "for k=3 score: 95.95959595959596\n",
      "for k=4 score: 95.95959595959596\n"
     ]
    }
   ],
   "source": [
    "df = pd.read_csv(\"iris.csv\")\n",
    "print()\n",
    "df = ProcessingData.normalizeDF(df, ['sepal.width','sepal.length','petal.width','petal.length'])\n",
    "df = ProcessingData.shuffleDF(df)\n",
    "test_X, train_X = ProcessingData.splitDF(df)\n",
    "print(df.head(5))\n",
    "print(f\"len(train_X):{len(train_X)}\")\n",
    "print(f\"len(test_X):{len(test_X)}\")\n",
    "for k in range(2,5):\n",
    "    knn = KNN(1,k) # m, k\n",
    "    knn.fit(train_X)\n",
    "    score = knn.score(test_X[:-1])\n",
    "    print(f\"for k={k} score: {score}\")"
   ]
  }
 ],
 "metadata": {
  "interpreter": {
   "hash": "b3ba2566441a7c06988d0923437866b63cedc61552a5af99d1f4fb67d367b25f"
  },
  "kernelspec": {
   "display_name": "Python 3.9.7 ('base')",
   "language": "python",
   "name": "python3"
  },
  "language_info": {
   "codemirror_mode": {
    "name": "ipython",
    "version": 3
   },
   "file_extension": ".py",
   "mimetype": "text/x-python",
   "name": "python",
   "nbconvert_exporter": "python",
   "pygments_lexer": "ipython3",
   "version": "3.9.7"
  },
  "orig_nbformat": 4
 },
 "nbformat": 4,
 "nbformat_minor": 2
}