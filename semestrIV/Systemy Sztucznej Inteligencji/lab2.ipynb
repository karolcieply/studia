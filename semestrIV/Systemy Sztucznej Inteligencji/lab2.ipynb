{
 "cells": [
  {
   "cell_type": "code",
   "execution_count": 11,
   "metadata": {
    "pycharm": {
     "is_executing": true,
     "name": "#%%\n"
    }
   },
   "outputs": [],
   "source": [
    "import pandas as pd\n",
    "import numpy as np\n",
    "import random\n",
    "import sklearn\n",
    "from sklearn.datasets import load_digits\n",
    "from sklearn.model_selection import train_test_split"
   ]
  },
  {
   "cell_type": "code",
   "execution_count": 4,
   "metadata": {
    "pycharm": {
     "name": "#%%\n"
    }
   },
   "outputs": [],
   "source": [
    "class ProcessingData:\n",
    "    @staticmethod\n",
    "    def shuffleDF(df: pd.DataFrame) -> pd.DataFrame:\n",
    "        for i in range(len(df)):\n",
    "            rand= (random.randint(i,len(df)-1))\n",
    "            temp = df.iloc[i].copy()\n",
    "            df.iloc[i] = df.iloc[rand]\n",
    "            df.iloc[rand] = temp\n",
    "        return df\n",
    "        # return df.sample(frac=1)\n",
    "    @staticmethod\n",
    "    def normalizeDF(df: pd.DataFrame, columnNames: list) -> pd.DataFrame:\n",
    "        for columnName in columnNames:\n",
    "            df[columnName] = (df[columnName]-df[columnName].min())/(df[columnName].max()-df[columnName].min())\n",
    "        return df\n",
    "    @staticmethod\n",
    "    def splitDF(df: pd.DataFrame) -> pd.DataFrame:\n",
    "        trainIndexes = random.sample(range(1, len(df)), len(df)//3)\n",
    "        train_X = pd.DataFrame(columns=df.columns)\n",
    "        test_X = pd.DataFrame(columns=df.columns)\n",
    "        for i in range(len(df)):\n",
    "            if i in trainIndexes:\n",
    "                train_X = train_X.append(df.iloc[i])\n",
    "            else:\n",
    "                test_X = test_X.append(df.iloc[i])\n",
    "\n",
    "        return test_X, train_X\n",
    "        #return train_test_split(df)"
   ]
  },
  {
   "cell_type": "code",
   "execution_count": 19,
   "metadata": {
    "pycharm": {
     "name": "#%%\n"
    }
   },
   "outputs": [],
   "source": [
    "class KNN:\n",
    "    def __init__(self, m: int, k: int):\n",
    "        self.m = m\n",
    "        self.k = k\n",
    "\n",
    "    @staticmethod\n",
    "    def dst(x: np.array, y: np.array, m: int) -> float:\n",
    "        return sum([(abs(xi-yi)**m)\n",
    "                    for xi,yi in zip(x,y)])**(1/m)\n",
    "\n",
    "    def fit(self, df: pd.DataFrame):\n",
    "        self.df = df\n",
    "    \n",
    "    def predict(self, point: pd.DataFrame) -> str:\n",
    "        types = {}\n",
    "        for v in pd.unique(df[:-1]):\n",
    "            types[v] = 0\n",
    "        result = []\n",
    "        for sample in self.df.values:\n",
    "            result.append([KNN.dst(sample[:-1], point, self.m), sample[-1]])\n",
    "        result.sort(key=lambda x:x[0])\n",
    "        for i in range(self.k):\n",
    "            types[result[i][1]] += 1\n",
    "        return max(types, key=types.get)\n",
    "    \n",
    "    def score(self, test_X: pd.DataFrame) -> float:\n",
    "        good = 0\n",
    "        bad = 0\n",
    "        for sample in test_X.values:\n",
    "            if (x:=self.predict(sample)) == sample[-1]:\n",
    "                good += 1\n",
    "            else:\n",
    "                bad +=1\n",
    "        return good/(bad+good)*100"
   ]
  },
  {
   "cell_type": "code",
   "execution_count": 14,
   "metadata": {
    "pycharm": {
     "name": "#%%\n"
    }
   },
   "outputs": [
    {
     "name": "stdout",
     "output_type": "stream",
     "text": [
      "(1797, 64)\n"
     ]
    }
   ],
   "source": [
    "df = sklearn.datasets.load_digits()\n",
    "print(df.data.shape)\n",
    "n_samples = len(df.images)\n",
    "clf = KNN(28,3)\n",
    "data = df.images.reshape((n_samples, -1))"
   ]
  },
  {
   "cell_type": "code",
   "execution_count": 22,
   "metadata": {},
   "outputs": [
    {
     "data": {
      "text/plain": [
       "[array([[ 0.,  0.,  8., ..., 12.,  0.,  0.],\n",
       "        [ 0.,  0.,  0., ...,  0.,  0.,  0.],\n",
       "        [ 0.,  0.,  4., ...,  0.,  0.,  0.],\n",
       "        ...,\n",
       "        [ 0.,  0.,  6., ...,  0.,  0.,  0.],\n",
       "        [ 0.,  0.,  1., ...,  3.,  0.,  0.],\n",
       "        [ 0.,  0.,  5., ...,  0.,  0.,  0.]]),\n",
       " array([[ 0.,  0.,  1., ..., 15., 11.,  1.],\n",
       "        [ 0.,  0.,  8., ..., 16., 11.,  1.],\n",
       "        [ 0.,  0.,  9., ...,  5.,  0.,  0.],\n",
       "        ...,\n",
       "        [ 0.,  3., 15., ...,  0.,  0.,  0.],\n",
       "        [ 0.,  0.,  7., ...,  0.,  0.,  0.],\n",
       "        [ 0.,  0.,  0., ..., 12.,  8.,  0.]]),\n",
       " array([3, 7, 7, ..., 7, 1, 7]),\n",
       " array([3, 9, 5, 2, 5, 2, 2, 8, 2, 5, 7, 1, 5, 4, 4, 4, 5, 6, 5, 4, 5, 6,\n",
       "        1, 1, 5, 0, 4, 4, 8, 3, 0, 1, 8, 9, 8, 9, 1, 7, 8, 3, 1, 9, 4, 3,\n",
       "        3, 6, 2, 8, 7, 0, 0, 8, 5, 3, 3, 4, 6, 6, 1, 1, 5, 3, 8, 7, 9, 2,\n",
       "        1, 6, 7, 5, 7, 8, 8, 7, 3, 7, 5, 1, 9, 8, 0, 4, 0, 1, 7, 1, 2, 0,\n",
       "        9, 0, 6, 2, 0, 5, 9, 6, 3, 5, 0, 1, 7, 0, 8, 2, 1, 4, 0, 3, 1, 4,\n",
       "        3, 7, 1, 1, 9, 8, 9, 9, 4, 4, 4, 6, 6, 3, 4, 9, 0, 4, 8, 3, 6, 9,\n",
       "        9, 6, 9, 7, 5, 7, 3, 0, 0, 1, 6, 5, 1, 9, 7, 5, 4, 7, 0, 1, 6, 0,\n",
       "        6, 6, 5, 1, 1, 9, 5, 3, 0, 1, 9, 8, 0, 5, 3, 5, 7, 5, 0, 2, 0, 7,\n",
       "        9, 4, 2, 6, 9, 7, 4, 8, 3, 2, 2, 0, 5, 6, 7, 9, 2, 5, 9, 7, 1, 0,\n",
       "        2, 3, 2, 0, 9, 5, 1, 8, 3, 0, 8, 4, 8, 7, 5, 5, 2, 9, 4, 0, 6, 0,\n",
       "        5, 9, 4, 9, 4, 3, 8, 4, 5, 9, 2, 7, 8, 7, 5, 9, 3, 6, 3, 8, 5, 7,\n",
       "        1, 4, 9, 6, 9, 8, 2, 9, 3, 1, 6, 5, 1, 2, 2, 4, 7, 5, 8, 9, 5, 4,\n",
       "        4, 2, 7, 0, 0, 3, 5, 0, 4, 9, 0, 6, 7, 3, 0, 7, 5, 1, 4, 1, 0, 9,\n",
       "        0, 8, 4, 4, 4, 9, 6, 3, 3, 3, 4, 5, 0, 0, 8, 9, 2, 8, 2, 3, 6, 3,\n",
       "        0, 3, 7, 2, 5, 3, 2, 1, 7, 6, 9, 4, 4, 8, 7, 8, 3, 9, 5, 8, 9, 0,\n",
       "        0, 7, 1, 5, 8, 4, 8, 2, 6, 3, 2, 7, 1, 1, 0, 5, 7, 5, 6, 6, 4, 0,\n",
       "        5, 9, 1, 9, 1, 5, 0, 6])]"
      ]
     },
     "execution_count": 22,
     "metadata": {},
     "output_type": "execute_result"
    }
   ],
   "source": [
    "X_train, X_test, y_train, y_test = train_test_split(\n",
    "    data, df.target, test_size=0.5, shuffle=False\n",
    ")"
   ]
  },
  {
   "cell_type": "code",
   "execution_count": 20,
   "metadata": {},
   "outputs": [],
   "source": [
    "clf.fit(pd.DataFrame(X_train, y_train))"
   ]
  },
  {
   "cell_type": "code",
   "execution_count": 21,
   "metadata": {},
   "outputs": [
    {
     "ename": "KeyError",
     "evalue": "'variety'",
     "output_type": "error",
     "traceback": [
      "\u001b[1;31m---------------------------------------------------------------------------\u001b[0m",
      "\u001b[1;31mKeyError\u001b[0m                                  Traceback (most recent call last)",
      "\u001b[1;32m~\\AppData\\Local\\Temp/ipykernel_9680/63877065.py\u001b[0m in \u001b[0;36m<module>\u001b[1;34m\u001b[0m\n\u001b[1;32m----> 1\u001b[1;33m \u001b[0mclf\u001b[0m\u001b[1;33m.\u001b[0m\u001b[0mscore\u001b[0m\u001b[1;33m(\u001b[0m\u001b[0mpd\u001b[0m\u001b[1;33m.\u001b[0m\u001b[0mDataFrame\u001b[0m\u001b[1;33m(\u001b[0m\u001b[0mX_test\u001b[0m\u001b[1;33m)\u001b[0m\u001b[1;33m)\u001b[0m\u001b[1;33m\u001b[0m\u001b[1;33m\u001b[0m\u001b[0m\n\u001b[0m",
      "\u001b[1;32m~\\AppData\\Local\\Temp/ipykernel_9680/2780644275.py\u001b[0m in \u001b[0;36mscore\u001b[1;34m(self, test_X)\u001b[0m\n\u001b[0;32m     28\u001b[0m         \u001b[0mbad\u001b[0m \u001b[1;33m=\u001b[0m \u001b[1;36m0\u001b[0m\u001b[1;33m\u001b[0m\u001b[1;33m\u001b[0m\u001b[0m\n\u001b[0;32m     29\u001b[0m         \u001b[1;32mfor\u001b[0m \u001b[0msample\u001b[0m \u001b[1;32min\u001b[0m \u001b[0mtest_X\u001b[0m\u001b[1;33m.\u001b[0m\u001b[0mvalues\u001b[0m\u001b[1;33m:\u001b[0m\u001b[1;33m\u001b[0m\u001b[1;33m\u001b[0m\u001b[0m\n\u001b[1;32m---> 30\u001b[1;33m             \u001b[1;32mif\u001b[0m \u001b[1;33m(\u001b[0m\u001b[0mx\u001b[0m\u001b[1;33m:=\u001b[0m\u001b[0mself\u001b[0m\u001b[1;33m.\u001b[0m\u001b[0mpredict\u001b[0m\u001b[1;33m(\u001b[0m\u001b[0msample\u001b[0m\u001b[1;33m)\u001b[0m\u001b[1;33m)\u001b[0m \u001b[1;33m==\u001b[0m \u001b[0msample\u001b[0m\u001b[1;33m[\u001b[0m\u001b[1;33m-\u001b[0m\u001b[1;36m1\u001b[0m\u001b[1;33m]\u001b[0m\u001b[1;33m:\u001b[0m\u001b[1;33m\u001b[0m\u001b[1;33m\u001b[0m\u001b[0m\n\u001b[0m\u001b[0;32m     31\u001b[0m                 \u001b[0mgood\u001b[0m \u001b[1;33m+=\u001b[0m \u001b[1;36m1\u001b[0m\u001b[1;33m\u001b[0m\u001b[1;33m\u001b[0m\u001b[0m\n\u001b[0;32m     32\u001b[0m             \u001b[1;32melse\u001b[0m\u001b[1;33m:\u001b[0m\u001b[1;33m\u001b[0m\u001b[1;33m\u001b[0m\u001b[0m\n",
      "\u001b[1;32m~\\AppData\\Local\\Temp/ipykernel_9680/2780644275.py\u001b[0m in \u001b[0;36mpredict\u001b[1;34m(self, point)\u001b[0m\n\u001b[0;32m     14\u001b[0m     \u001b[1;32mdef\u001b[0m \u001b[0mpredict\u001b[0m\u001b[1;33m(\u001b[0m\u001b[0mself\u001b[0m\u001b[1;33m,\u001b[0m \u001b[0mpoint\u001b[0m\u001b[1;33m:\u001b[0m \u001b[0mpd\u001b[0m\u001b[1;33m.\u001b[0m\u001b[0mDataFrame\u001b[0m\u001b[1;33m)\u001b[0m \u001b[1;33m->\u001b[0m \u001b[0mstr\u001b[0m\u001b[1;33m:\u001b[0m\u001b[1;33m\u001b[0m\u001b[1;33m\u001b[0m\u001b[0m\n\u001b[0;32m     15\u001b[0m         \u001b[0mtypes\u001b[0m \u001b[1;33m=\u001b[0m \u001b[1;33m{\u001b[0m\u001b[1;33m}\u001b[0m\u001b[1;33m\u001b[0m\u001b[1;33m\u001b[0m\u001b[0m\n\u001b[1;32m---> 16\u001b[1;33m         \u001b[1;32mfor\u001b[0m \u001b[0mv\u001b[0m \u001b[1;32min\u001b[0m \u001b[0mpd\u001b[0m\u001b[1;33m.\u001b[0m\u001b[0munique\u001b[0m\u001b[1;33m(\u001b[0m\u001b[0mdf\u001b[0m\u001b[1;33m[\u001b[0m\u001b[1;34m\"variety\"\u001b[0m\u001b[1;33m]\u001b[0m\u001b[1;33m)\u001b[0m\u001b[1;33m:\u001b[0m\u001b[1;33m\u001b[0m\u001b[1;33m\u001b[0m\u001b[0m\n\u001b[0m\u001b[0;32m     17\u001b[0m             \u001b[0mtypes\u001b[0m\u001b[1;33m[\u001b[0m\u001b[0mv\u001b[0m\u001b[1;33m]\u001b[0m \u001b[1;33m=\u001b[0m \u001b[1;36m0\u001b[0m\u001b[1;33m\u001b[0m\u001b[1;33m\u001b[0m\u001b[0m\n\u001b[0;32m     18\u001b[0m         \u001b[0mresult\u001b[0m \u001b[1;33m=\u001b[0m \u001b[1;33m[\u001b[0m\u001b[1;33m]\u001b[0m\u001b[1;33m\u001b[0m\u001b[1;33m\u001b[0m\u001b[0m\n",
      "\u001b[1;31mKeyError\u001b[0m: 'variety'"
     ]
    }
   ],
   "source": [
    "clf.score(pd.DataFrame(X_test, y_test))"
   ]
  },
  {
   "cell_type": "code",
   "execution_count": null,
   "metadata": {},
   "outputs": [],
   "source": []
  }
 ],
 "metadata": {
  "interpreter": {
   "hash": "b3ba2566441a7c06988d0923437866b63cedc61552a5af99d1f4fb67d367b25f"
  },
  "kernelspec": {
   "display_name": "Python 3.9.7 ('base')",
   "language": "python",
   "name": "python3"
  },
  "language_info": {
   "codemirror_mode": {
    "name": "ipython",
    "version": 3
   },
   "file_extension": ".py",
   "mimetype": "text/x-python",
   "name": "python",
   "nbconvert_exporter": "python",
   "pygments_lexer": "ipython3",
   "version": "3.9.7"
  },
  "orig_nbformat": 4
 },
 "nbformat": 4,
 "nbformat_minor": 2
}
