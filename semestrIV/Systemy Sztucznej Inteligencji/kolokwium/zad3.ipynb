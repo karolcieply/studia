{
 "cells": [
  {
   "cell_type": "code",
   "execution_count": 4,
   "metadata": {},
   "outputs": [],
   "source": [
    "from typing import Tuple\n",
    "import pandas as pd\n",
    "import numpy as np\n",
    "import random\n",
    "from dataclasses import dataclass"
   ]
  },
  {
   "cell_type": "code",
   "execution_count": 2,
   "metadata": {},
   "outputs": [],
   "source": [
    "seeds = pd.read_csv(\"seeds.csv\", sep=\",\")"
   ]
  },
  {
   "cell_type": "code",
   "execution_count": 23,
   "metadata": {},
   "outputs": [],
   "source": [
    "@dataclass\n",
    "class seedsClassification:\n",
    "    seedsMin: float\n",
    "    seedsAvg: float\n",
    "    seedsMax: float\n",
    "\n",
    "class Classificator:\n",
    "    def __init__(self):\n",
    "        self.classification = {}\n",
    "\n",
    "    def fit(self, df: pd.DataFrame) -> None:\n",
    "        self.seedTypes = df[\"Type\"].unique()\n",
    "        for type in self.seedTypes:\n",
    "            temp = df[df[\"Type\"] == type]\n",
    "            self.columns = df.columns[:-1]\n",
    "            for i in self.columns:\n",
    "                seedsObject = seedsClassification(temp[i].min(), temp[i].mean(), temp[i].max())\n",
    "                if len(df[df[i]<seedsObject.seedsAvg]) > len(df[df[i]>seedsObject.seedsAvg]):\n",
    "                    self.classification[f\"{type}.{i}\"] = \"less\"\n",
    "                else:\n",
    "                    self.classification[f\"{type}.{i}\"] = \"more\"\n",
    "                self.classification[f\"{type}.{i}.values\"] = seedsObject\n",
    "\n",
    "    def predict(self, sample: pd.DataFrame):\n",
    "        result = {k: 0 for k in self.seedTypes}\n",
    "        for type in self.seedTypes:\n",
    "            for index, column in enumerate(self.columns):\n",
    "                if self.classification[f\"{type}.{column}\"] == \"less\":\n",
    "                    if self.classification[f\"{type}.{column}.values\"].seedsMin<\\\n",
    "                        sample[index] < self.classification[f\"{type}.{column}.values\"].seedsAvg:\n",
    "                        result[type] += 1\n",
    "                else:\n",
    "                    if self.classification[f\"{type}.{column}.values\"].seedsMax>\\\n",
    "                        sample[index] > self.classification[f\"{type}.{column}.values\"].seedsAvg:\n",
    "                        result[type] += 1\n",
    "        return max(result, key=result.get)\n",
    "    def score(self, test_X: pd.DataFrame) -> float:\n",
    "        good = 0\n",
    "        bad = 0\n",
    "        for sample in test_X.values:\n",
    "            if (x:=self.predict(sample)) == sample[-1]:\n",
    "                good += 1\n",
    "            else:\n",
    "                bad +=1\n",
    "        return good/(bad+good)*100\n"
   ]
  },
  {
   "cell_type": "code",
   "execution_count": 24,
   "metadata": {},
   "outputs": [],
   "source": [
    "\n",
    "class ProcessingData:\n",
    "    # zwracam dataframe w losowej kolejności i resetuje indeksy\n",
    "    @staticmethod\n",
    "    def shuffleDF(df: pd.DataFrame) -> pd.DataFrame:\n",
    "        return df.iloc[random.sample(range(len(df)), len(df))].reset_index(drop=True)\n",
    "\n",
    "    # normalizuje każdą kolumnę w dataframe (według przekazanej listy) metodą min max\n",
    "    @staticmethod\n",
    "    def normalizeDF(df: pd.DataFrame, columnNames: list) -> pd.DataFrame:\n",
    "        for columnName in columnNames:\n",
    "            df[columnName] = (df[columnName]-df[columnName].min())/(df[columnName].max()-df[columnName].min())\n",
    "        return df\n",
    "\n",
    "    # zwracam wiersze gdzie index jest mniejszy od długość df*wielkość df i wiersze gdzie index jest równy lub większy od długość *wielkość df \n",
    "    @staticmethod\n",
    "    def splitDF(df: pd.DataFrame, trainSize: float) -> Tuple[pd.DataFrame, pd.DataFrame]:\n",
    "        return df[df.index < int(len(df)*trainSize)], df[df.index >= int(len(df)*trainSize)]\n",
    "\n",
    "    @staticmethod\n",
    "    def processData(df: pd.DataFrame, columnNames: list, trainSize: float) -> Tuple[pd.DataFrame, pd.DataFrame]:\n",
    "        df = ProcessingData.shuffleDF(df)\n",
    "        df = ProcessingData.normalizeDF(df, columnNames)\n",
    "        return ProcessingData.splitDF(df, trainSize)\n",
    "    \n",
    "\n"
   ]
  },
  {
   "cell_type": "code",
   "execution_count": 40,
   "metadata": {},
   "outputs": [
    {
     "data": {
      "text/plain": [
       "75.0"
      ]
     },
     "execution_count": 40,
     "metadata": {},
     "output_type": "execute_result"
    }
   ],
   "source": [
    "# z normalizacją\n",
    "classificator = Classificator()\n",
    "train_X, test_X = ProcessingData.processData(seeds, seeds.columns[:-1], 0.8)\n",
    "classificator.fit(train_X)\n",
    "classificator.score(test_X)"
   ]
  },
  {
   "cell_type": "code",
   "execution_count": 34,
   "metadata": {},
   "outputs": [
    {
     "data": {
      "text/plain": [
       "67.5"
      ]
     },
     "execution_count": 34,
     "metadata": {},
     "output_type": "execute_result"
    }
   ],
   "source": [
    "# bez normalizacji\n",
    "seeds = pd.read_csv(\"seeds.csv\", sep=\",\")\n",
    "seeds = ProcessingData.shuffleDF(seeds)\n",
    "train_X, test_X = ProcessingData.splitDF(seeds, 0.8)\n",
    "classificator = Classificator()\n",
    "classificator.fit(train_X)\n",
    "classificator.score(test_X)"
   ]
  }
 ],
 "metadata": {
  "interpreter": {
   "hash": "b3ba2566441a7c06988d0923437866b63cedc61552a5af99d1f4fb67d367b25f"
  },
  "kernelspec": {
   "display_name": "Python 3.9.7 ('base')",
   "language": "python",
   "name": "python3"
  },
  "language_info": {
   "codemirror_mode": {
    "name": "ipython",
    "version": 3
   },
   "file_extension": ".py",
   "mimetype": "text/x-python",
   "name": "python",
   "nbconvert_exporter": "python",
   "pygments_lexer": "ipython3",
   "version": "3.9.7"
  },
  "orig_nbformat": 4
 },
 "nbformat": 4,
 "nbformat_minor": 2
}
