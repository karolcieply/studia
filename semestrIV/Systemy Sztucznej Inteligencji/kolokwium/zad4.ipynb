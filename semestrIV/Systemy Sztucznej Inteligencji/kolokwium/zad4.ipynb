{
 "cells": [
  {
   "cell_type": "code",
   "execution_count": 93,
   "metadata": {},
   "outputs": [],
   "source": [
    "from typing import Tuple\n",
    "import pandas as pd \n",
    "import random \n",
    "import seaborn as sns\n",
    "from sklearn.datasets import load_digits\n",
    "from sklearn.model_selection import train_test_split\n",
    "from sklearn import datasets, svm, metrics\n",
    "from sklearn.model_selection import train_test_split"
   ]
  },
  {
   "cell_type": "code",
   "execution_count": 94,
   "metadata": {},
   "outputs": [],
   "source": [
    "class ProcessingData:\n",
    "    # zwracam dataframe w losowej kolejności i resetuje indeksy\n",
    "    @staticmethod\n",
    "    def shuffleDF(df: pd.DataFrame) -> pd.DataFrame:\n",
    "        return df.iloc[random.sample(range(len(df)), len(df))].reset_index(drop=True)\n",
    "\n",
    "    # normalizuje każdą kolumnę w dataframe (według przekazanej listy) metodą min max\n",
    "    @staticmethod\n",
    "    def normalizeDF(df: pd.DataFrame, columnNames: list) -> pd.DataFrame:\n",
    "        for columnName in columnNames:\n",
    "            df[columnName] = (df[columnName]-df[columnName].min())/(df[columnName].max()-df[columnName].min())\n",
    "        return df\n",
    "\n",
    "    # zwracam wiersze gdzie index jest mniejszy od długość df*wielkość df i wiersze gdzie index jest równy lub większy od długość *wielkość df \n",
    "    @staticmethod\n",
    "    def splitDF(df: pd.DataFrame, trainSize: float) -> Tuple[pd.DataFrame, pd.DataFrame]:\n",
    "        return df[df.index < int(len(df)*trainSize)], df[df.index >= int(len(df)*trainSize)]\n",
    "\n",
    "    @staticmethod\n",
    "    def processData(df: pd.DataFrame, columnNames: list, trainSize: float) -> Tuple[pd.DataFrame, pd.DataFrame]:\n",
    "        df = ProcessingData.shuffleDF(df)\n",
    "        df = ProcessingData.normalizeDF(df, columnNames)\n",
    "        return ProcessingData.splitDF(df, trainSize)"
   ]
  },
  {
   "cell_type": "code",
   "execution_count": 95,
   "metadata": {},
   "outputs": [],
   "source": [
    "\n",
    "class KNN:\n",
    "    def __init__(self, k: int):\n",
    "        self.k = k\n",
    "    \n",
    "    #liczę dystatns przy użyciu metryki taksówkowej\n",
    "    @staticmethod\n",
    "    def dst(x: list, y: list) -> float:\n",
    "        return sum([(abs(xi-yi))\n",
    "                    for xi,yi in zip(x,y)])\n",
    "\n",
    "    #do obiektu wpisuje dane treningowe\n",
    "    def fit(self, df: pd.DataFrame):\n",
    "        self.df = df\n",
    "    \n",
    "    #dla danego obiektu zwraca najczęściej pojawianego się sąsiada\n",
    "    def predict(self, point: pd.DataFrame) -> str:\n",
    "        #tworzę słownik z typami\n",
    "        types = {}\n",
    "        for v in range(11):\n",
    "            types[v] = 0\n",
    "        result = []\n",
    "        # liczę odległości od każdego punktu\n",
    "        for sample in self.df.values:\n",
    "            result.append([KNN.dst(sample[:-1], point), sample[-1]])\n",
    "        #sortuje odległości\n",
    "        result.sort(key=lambda x:x[0])\n",
    "        # zliczam type k najbliższych odległości\n",
    "        for i in range(self.k):\n",
    "            types[result[i][1]] += 1\n",
    "        return max(types, key=types.get)\n",
    "    \n",
    "    #liczę wynik dla zbioru testowego\n",
    "    def score(self, test_X: pd.DataFrame) -> float:\n",
    "        good = 0\n",
    "        bad = 0\n",
    "        for sample in test_X.values:\n",
    "            # sprawdzam czy predict zwrócił dobry typ\n",
    "            if (x:=self.predict(sample)) == sample[-1]:\n",
    "                print(x, sample[-1])\n",
    "                good += 1\n",
    "            else:\n",
    "                bad +=1\n",
    "        return good/(bad+good)*100"
   ]
  },
  {
   "cell_type": "code",
   "execution_count": 96,
   "metadata": {},
   "outputs": [
    {
     "name": "stdout",
     "output_type": "stream",
     "text": [
      "32.5\n"
     ]
    }
   ],
   "source": [
    "# znormalizowane\n",
    "seeds = pd.read_csv(\"seeds.csv\", sep=\",\")\n",
    "X_train, X_test = ProcessingData.processData(seeds, seeds.columns[:-1], 0.8)\n",
    "knn = KNN(4)\n",
    "knn.fit(X_train)\n",
    "print(knn.score(X_test))"
   ]
  },
  {
   "cell_type": "code",
   "execution_count": 97,
   "metadata": {},
   "outputs": [
    {
     "name": "stdout",
     "output_type": "stream",
     "text": [
      "30.0\n"
     ]
    }
   ],
   "source": [
    "# bez normalizacji\n",
    "seeds = pd.read_csv(\"seeds.csv\", sep=\",\")\n",
    "seeds = ProcessingData.shuffleDF(seeds)\n",
    "X_train, X_test = ProcessingData.splitDF(seeds, 0.8)\n",
    "knn = KNN(4)\n",
    "knn.fit(X_train)\n",
    "print(knn.score(X_test))"
   ]
  },
  {
   "cell_type": "code",
   "execution_count": 98,
   "metadata": {},
   "outputs": [],
   "source": [
    "digits = datasets.load_digits()"
   ]
  },
  {
   "cell_type": "code",
   "execution_count": 99,
   "metadata": {},
   "outputs": [],
   "source": [
    "n_samples = len(digits.images)\n",
    "data = digits.images.reshape((n_samples, -1))"
   ]
  },
  {
   "cell_type": "code",
   "execution_count": 100,
   "metadata": {},
   "outputs": [],
   "source": [
    "\n",
    "clf = KNN(4)"
   ]
  },
  {
   "cell_type": "code",
   "execution_count": 101,
   "metadata": {},
   "outputs": [],
   "source": [
    "X_train, X_test, y_train, y_test = train_test_split(\n",
    "    data, digits.target, test_size=0.2\n",
    ")"
   ]
  },
  {
   "cell_type": "code",
   "execution_count": 102,
   "metadata": {},
   "outputs": [],
   "source": [
    "clf.fit(pd.concat([pd.DataFrame(X_train), pd.DataFrame(y_train)], axis=1))\n"
   ]
  },
  {
   "cell_type": "code",
   "execution_count": 103,
   "metadata": {},
   "outputs": [
    {
     "data": {
      "text/plain": [
       "10.22964509394572"
      ]
     },
     "execution_count": 103,
     "metadata": {},
     "output_type": "execute_result"
    }
   ],
   "source": [
    "clf.score(pd.concat([pd.DataFrame(X_train), pd.DataFrame(y_train)], axis=1))"
   ]
  },
  {
   "cell_type": "code",
   "execution_count": 104,
   "metadata": {},
   "outputs": [
    {
     "name": "stdout",
     "output_type": "stream",
     "text": [
      "0\n",
      "8\n"
     ]
    }
   ],
   "source": [
    "print(clf.predict(pd.DataFrame(X_test[10])))\n",
    "print(y_test[10])"
   ]
  },
  {
   "cell_type": "code",
   "execution_count": 105,
   "metadata": {},
   "outputs": [
    {
     "name": "stdout",
     "output_type": "stream",
     "text": [
      "[ 0.  0.  8. 12. 12. 14.  3.  0.  0.  0. 11. 11. 10. 16.  2.  0.  0.  0.\n",
      "  0.  0.  9. 13.  0.  0.  0.  0.  0. 14. 16. 13.  0.  0.  0.  0.  0.  8.\n",
      "  8. 16.  4.  0.  0.  0.  3.  0.  0. 16.  4.  0.  0.  1. 16.  9.  9. 15.\n",
      "  2.  0.  0.  1. 11. 14. 15.  3.  0.  0.]\n",
      "       0\n",
      "0    0.0\n",
      "1    0.0\n",
      "2    8.0\n",
      "3   12.0\n",
      "4   12.0\n",
      "..   ...\n",
      "59  14.0\n",
      "60  15.0\n",
      "61   3.0\n",
      "62   0.0\n",
      "63   0.0\n",
      "\n",
      "[64 rows x 1 columns]\n"
     ]
    }
   ],
   "source": [
    "print(X_test[100])\n",
    "print(pd.DataFrame(X_test[100]))"
   ]
  },
  {
   "cell_type": "code",
   "execution_count": 106,
   "metadata": {},
   "outputs": [],
   "source": [
    "import matplotlib.pyplot as plt"
   ]
  },
  {
   "cell_type": "code",
   "execution_count": 107,
   "metadata": {},
   "outputs": [
    {
     "name": "stdout",
     "output_type": "stream",
     "text": [
      "0, 5\n",
      "0, 8\n",
      "0, 8\n",
      "0, 9\n",
      "0, 2\n",
      "0, 7\n",
      "0, 8\n",
      "0, 5\n",
      "0, 0\n",
      "0, 9\n",
      "0, 4\n",
      "0, 1\n",
      "0, 2\n",
      "0, 6\n",
      "0, 4\n",
      "0, 5\n",
      "0, 6\n",
      "0, 0\n",
      "0, 1\n",
      "0, 1\n"
     ]
    }
   ],
   "source": [
    "for i in range(20,40):\n",
    "    print(clf.predict(pd.DataFrame(X_test[i])), end=\", \")\n",
    "    print(y_test[i])"
   ]
  },
  {
   "cell_type": "code",
   "execution_count": null,
   "metadata": {},
   "outputs": [],
   "source": []
  }
 ],
 "metadata": {
  "interpreter": {
   "hash": "b3ba2566441a7c06988d0923437866b63cedc61552a5af99d1f4fb67d367b25f"
  },
  "kernelspec": {
   "display_name": "Python 3.9.7 ('base')",
   "language": "python",
   "name": "python3"
  },
  "language_info": {
   "codemirror_mode": {
    "name": "ipython",
    "version": 3
   },
   "file_extension": ".py",
   "mimetype": "text/x-python",
   "name": "python",
   "nbconvert_exporter": "python",
   "pygments_lexer": "ipython3",
   "version": "3.9.7"
  },
  "orig_nbformat": 4
 },
 "nbformat": 4,
 "nbformat_minor": 2
}
