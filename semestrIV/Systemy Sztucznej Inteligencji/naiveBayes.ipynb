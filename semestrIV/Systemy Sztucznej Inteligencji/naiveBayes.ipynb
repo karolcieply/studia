{
 "cells": [
  {
   "cell_type": "code",
   "execution_count": 112,
   "metadata": {},
   "outputs": [],
   "source": [
    "import pandas as pd \n",
    "import numpy as np\n",
    "from sklearn.model_selection import train_test_split"
   ]
  },
  {
   "cell_type": "code",
   "execution_count": 113,
   "metadata": {},
   "outputs": [],
   "source": [
    "irys = pd.read_csv('iris.csv')\n",
    "X_train, X_test = train_test_split(irys, test_size=0.3)"
   ]
  },
  {
   "cell_type": "code",
   "execution_count": 114,
   "metadata": {},
   "outputs": [],
   "source": [
    "class NaiveBayes:\n",
    "    def __init__(self, df: pd.DataFrame) -> None:\n",
    "        self.flowerNames = df.iloc[:, -1].unique()\n",
    "        self.irysSplitted = {k : df[df[\"variety\"] == k].iloc[:, :-1] for k in self.flowerNames}\n",
    "        self.columnNames = df.columns[:-1]\n",
    "        self.probDict = {k : len(self.irysSplitted[k])/len(df) for k in self.flowerNames}\n",
    "        self.meanDict = {k : self.irysSplitted[k].mean() for k in self.flowerNames}\n",
    "        self.stdDict = {k : self.irysSplitted[k].std() for k in self.flowerNames}\n",
    "    \n",
    "    @staticmethod\n",
    "    def gauss(a1, classMean, classStd) -> float:\n",
    "        return np.exp(-((a1 - classMean)**2)/(2*classStd**2))\n",
    "\n",
    "    def predict(self, sample: pd.core.series):\n",
    "        result = {}\n",
    "        for flowerClass in self.flowerNames:\n",
    "            prob = self.probDict[flowerClass]\n",
    "            for column in range(len(self.columnNames)):\n",
    "                prob *= self.gauss(sample[column], self.meanDict[flowerClass][column], self.stdDict[flowerClass][column])\n",
    "            result[flowerClass] = prob\n",
    "        return max(result, key=result.get)\n",
    "    \n",
    "    def score(self, X_test: pd.DataFrame):\n",
    "        good, bad = 0, 0\n",
    "        for sample in X_test.values:\n",
    "            if (x:=self.predict(sample)) == sample[-1]:\n",
    "                good += 1\n",
    "            else:\n",
    "                bad +=1\n",
    "        return good/(bad+good)*100"
   ]
  },
  {
   "cell_type": "code",
   "execution_count": 115,
   "metadata": {},
   "outputs": [
    {
     "name": "stdout",
     "output_type": "stream",
     "text": [
      "95.55555555555556\n"
     ]
    }
   ],
   "source": [
    "nb = NaiveBayes(X_train)\n",
    "#print(type(irys.iloc[0, :-1]))\n",
    "#print(nb.predict(irys.iloc[0, :-1]))\n",
    "print(nb.score(X_test))"
   ]
  }
 ],
 "metadata": {
  "interpreter": {
   "hash": "b3ba2566441a7c06988d0923437866b63cedc61552a5af99d1f4fb67d367b25f"
  },
  "kernelspec": {
   "display_name": "Python 3.9.7 ('base')",
   "language": "python",
   "name": "python3"
  },
  "language_info": {
   "codemirror_mode": {
    "name": "ipython",
    "version": 3
   },
   "file_extension": ".py",
   "mimetype": "text/x-python",
   "name": "python",
   "nbconvert_exporter": "python",
   "pygments_lexer": "ipython3",
   "version": "3.9.7"
  },
  "orig_nbformat": 4
 },
 "nbformat": 4,
 "nbformat_minor": 2
}
