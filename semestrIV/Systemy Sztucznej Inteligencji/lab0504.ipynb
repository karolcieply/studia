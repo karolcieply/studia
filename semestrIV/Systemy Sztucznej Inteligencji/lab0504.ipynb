{
 "cells": [
  {
   "cell_type": "code",
   "execution_count": 62,
   "metadata": {},
   "outputs": [],
   "source": [
    "import pandas as pd\n",
    "from dataclasses import dataclass\n",
    "from sklearn.model_selection import train_test_split\n",
    "irys = pd.read_csv('iris.csv')"
   ]
  },
  {
   "cell_type": "code",
   "execution_count": 63,
   "metadata": {},
   "outputs": [
    {
     "name": "stdout",
     "output_type": "stream",
     "text": [
      "64.0\n"
     ]
    }
   ],
   "source": [
    "@dataclass\n",
    "class IrisClassification:\n",
    "    irisMin: float\n",
    "    irisAvg: float\n",
    "    irisMax: float\n",
    "\n",
    "class Classificator:\n",
    "    def __init__(self):\n",
    "        self.classification = {}\n",
    "\n",
    "    def fit(self, df: pd.DataFrame) -> None:\n",
    "        self.flowerTypes = df[\"variety\"].unique()\n",
    "        for type in self.flowerTypes:\n",
    "            temp = df[df[\"variety\"] == type]\n",
    "            self.columns = df.columns[:-1]\n",
    "            for i in self.columns:\n",
    "                irisObject = IrisClassification(temp[i].min(), temp[i].mean(), temp[i].max())\n",
    "                if len(irys[irys[i]<irisObject.irisAvg]) > len(irys[irys[i]>irisObject.irisAvg]):\n",
    "                    self.classification[f\"{type}.{i}\"] = \"less\"\n",
    "                else:\n",
    "                    self.classification[f\"{type}.{i}\"] = \"more\"\n",
    "                self.classification[f\"{type}.{i}.values\"] = irisObject\n",
    "\n",
    "    def predict(self, sample: pd.DataFrame):\n",
    "        result = {k: 0 for k in self.flowerTypes}\n",
    "        for type in self.flowerTypes:\n",
    "            for index, column in enumerate(self.columns):\n",
    "                if self.classification[f\"{type}.{column}\"] == \"less\":\n",
    "                    if self.classification[f\"{type}.{column}.values\"].irisMin<\\\n",
    "                        sample[index] < self.classification[f\"{type}.{column}.values\"].irisAvg:\n",
    "                        result[type] += 1\n",
    "                else:\n",
    "                    if self.classification[f\"{type}.{column}.values\"].irisMax>\\\n",
    "                        sample[index] > self.classification[f\"{type}.{column}.values\"].irisAvg:\n",
    "                        result[type] += 1\n",
    "        return max(result, key=result.get)\n",
    "    def score(self, test_X: pd.DataFrame) -> float:\n",
    "        good = 0\n",
    "        bad = 0\n",
    "        for sample in test_X.values:\n",
    "            if (x:=self.predict(sample)) == sample[-1]:\n",
    "                good += 1\n",
    "            else:\n",
    "                bad +=1\n",
    "        return good/(bad+good)*100\n",
    "\n",
    "test = Classificator()\n",
    "X_train, X_test = train_test_split(irys)\n",
    "test.fit(irys)\n",
    "print(test.score(irys))\n",
    "\n",
    "\n",
    "\n",
    "\n"
   ]
  },
  {
   "cell_type": "code",
   "execution_count": 64,
   "metadata": {},
   "outputs": [
    {
     "name": "stdout",
     "output_type": "stream",
     "text": [
      "['Setosa' 'Versicolor' 'Virginica']\n"
     ]
    }
   ],
   "source": [
    "print(test.flowerTypes)"
   ]
  },
  {
   "cell_type": "code",
   "execution_count": null,
   "metadata": {},
   "outputs": [],
   "source": [
    "{}"
   ]
  }
 ],
 "metadata": {
  "interpreter": {
   "hash": "b3ba2566441a7c06988d0923437866b63cedc61552a5af99d1f4fb67d367b25f"
  },
  "kernelspec": {
   "display_name": "Python 3.9.7 ('base')",
   "language": "python",
   "name": "python3"
  },
  "language_info": {
   "codemirror_mode": {
    "name": "ipython",
    "version": 3
   },
   "file_extension": ".py",
   "mimetype": "text/x-python",
   "name": "python",
   "nbconvert_exporter": "python",
   "pygments_lexer": "ipython3",
   "version": "3.9.7"
  },
  "orig_nbformat": 4
 },
 "nbformat": 4,
 "nbformat_minor": 2
}
