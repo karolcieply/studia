{
 "cells": [
  {
   "cell_type": "code",
   "execution_count": 143,
   "metadata": {},
   "outputs": [],
   "source": [
    "import pandas as pd\n",
    "import numpy as np"
   ]
  },
  {
   "cell_type": "code",
   "execution_count": 144,
   "metadata": {},
   "outputs": [
    {
     "name": "stdout",
     "output_type": "stream",
     "text": [
      "    ID DataBadania 1 DataBadania 2 DataBadania 3 DataBadania 4 DataBadania 5  \\\n",
      "0  101    2015.09.25    2016-03-11    2016-10-20    2017-04-06           NaN   \n",
      "1  102    2015.09.25    2016-03-10           NaN           NaN           NaN   \n",
      "2  104    2015.09.25    2016-03-10    22-09-2016    2017-04-06    2017-09-21   \n",
      "3  105    2015.09.25    2016-03-10    2016-10-20           NaN    2017-09-21   \n",
      "4  107    2015.09.25    2016-03-10    21-09-2016    2017-04-05    2017-09-20   \n",
      "\n",
      "  DataBadania 6 DataBadania 7 DataBadania 8 DataBadania 9  ...  InBodyType 9  \\\n",
      "0           NaN           NaN           NaN           NaN  ...         570.0   \n",
      "1           NaN           NaN           NaN           NaN  ...         570.0   \n",
      "2           NaN           NaN           NaN           NaN  ...           NaN   \n",
      "3    2018-03-21           NaN           NaN           NaN  ...           NaN   \n",
      "4    2018-03-21           NaN           NaN           NaN  ...           NaN   \n",
      "\n",
      "   LocalID 1  LocalID 2  LocalID 3  LocalID 4  LocalID 5  LocalID 6  \\\n",
      "0        NaN        NaN        NaN        NaN        NaN        NaN   \n",
      "1        NaN        NaN        NaN        NaN        NaN        NaN   \n",
      "2        NaN        NaN        NaN        NaN        NaN        NaN   \n",
      "3        NaN        NaN        NaN        NaN        NaN        NaN   \n",
      "4        NaN        NaN        NaN        NaN        NaN        NaN   \n",
      "\n",
      "   LocalID 7  LocalID 8  LocalID 9  \n",
      "0        NaN        NaN     4111.0  \n",
      "1        NaN        NaN     1983.0  \n",
      "2        NaN        NaN        NaN  \n",
      "3        NaN        NaN        NaN  \n",
      "4        NaN        NaN        NaN  \n",
      "\n",
      "[5 rows x 1135 columns]\n"
     ]
    }
   ],
   "source": [
    "output_csv = pd.read_csv(\"wynikowy_clear.csv\", sep=\";\")\n",
    "print(output_csv.head())"
   ]
  },
  {
   "cell_type": "code",
   "execution_count": 145,
   "metadata": {},
   "outputs": [],
   "source": [
    "plec = np.full(len(output_csv.index), \"\")\n",
    "dataurodzienia=np.full(len(output_csv.index), \"00.00.0000\")"
   ]
  },
  {
   "cell_type": "code",
   "execution_count": 146,
   "metadata": {},
   "outputs": [
    {
     "name": "stdout",
     "output_type": "stream",
     "text": [
      "['' '' '' '' '' '' '' '' '' '' '' '' '' '' '' '' '' '' '' '' '' '' '' ''\n",
      " '' '' '' '' '' '' '' '' '' '' '' '' '' '' '' '' '' '' '' '' '' '' '' ''\n",
      " '' '' '' '' '' '' '' '' '' '' '' '' '' '' '' '' '' '' '' '' '' '' '' ''\n",
      " '' '' '' '' '' '' '' '' '' '' '' '' '' '' '' '' '' '' '' '' '' '' '' ''\n",
      " '' '' '' '' '' '' '' '' '' '' '' '' '' '' '' '' '' '' '' '' '' '' '' ''\n",
      " '' '' '' '' '' '' '' '' '' '' '' '' '' '' '' '' '' '' '' '' '' '' '' ''\n",
      " '' '' '' '' '' '' '' '' '' '' '' '' '' '' '' '' '' '' '' '' '' '' '' ''\n",
      " '' '' '' '']\n"
     ]
    }
   ],
   "source": [
    "print(plec)"
   ]
  },
  {
   "cell_type": "code",
   "execution_count": 147,
   "metadata": {},
   "outputs": [],
   "source": [
    "for i in output_csv.index:\n",
    "    for column in output_csv.columns[181:190]:\n",
    "        if str(output_csv.loc[i, column]) != \"nan\":\n",
    "            dataurodzienia[i] =output_csv.loc[i, column]\n",
    "    for column in output_csv.columns[199:208]:\n",
    "        if str(output_csv.loc[i, column]) == \"M\":\n",
    "            plec[i] = 1 \n",
    "        if str(output_csv.loc[i, column]) == \"F\":\n",
    "            plec[i] = 0 "
   ]
  },
  {
   "cell_type": "code",
   "execution_count": 148,
   "metadata": {},
   "outputs": [
    {
     "name": "stdout",
     "output_type": "stream",
     "text": [
      "['14.06.2000' '27.12.2000' '2000.11.06' '2000.07.22' '2002.06.24'\n",
      " '2003.04.20' '17.04.2002' '25.01.2002' '2002.10.25' '22.07.2002'\n",
      " '09.03.2001' '21.01.2001' '24.10.2002' '23.05.2001' '16.01.2002'\n",
      " '05.02.2001' '21.03.2001' '06.05.2001' '02.11.2001' '09.06.2001'\n",
      " '23.04.2001' '21.05.1999' '30.01.2001' '09.02.1997' '09.09.1997'\n",
      " '21.09.1997' '24.05.1997' '05.09.1999' '21.06.1999' '1999.11.20'\n",
      " '22.05.1997' '2001.04.09' '1999.05.24' '1999.11.16' '2001.01.30'\n",
      " '18.11.2000' '1999.02.01' '1999.09.22' '14.08.1999' '03.11.1999'\n",
      " '1999.09.18' '1999.03.24' '1999.06.03' '04.12.1998' '1999.12.15'\n",
      " '2002.06.19' '2002.06.19' '20.12.1998' '16.07.1997' '16.06.2004'\n",
      " '11.10.2005' '03.01.2005' '25.01.2005' '04.07.2004' '03.12.2004'\n",
      " '10.02.2004' '27.01.2004' '2006.10.31' '2005.01.20' '2004.01.16'\n",
      " '2004.10.16' '28.04.2005' '11.05.2006' '12.08.2006' '21.11.2005'\n",
      " '30.10.2006' '05.05.2005' '20.10.2005' '12.07.2005' '13.07.2005'\n",
      " '02.11.2005' '24.07.2005' '05.08.2005' '01.08.2003' '09.06.2003'\n",
      " '13.03.2006' '2003.09.03' '18.03.2003' '20.09.2003' '19.01.2004'\n",
      " '28.02.2003' '28.08.2003' '23.08.2003' '15.02.2003' '23.04.2003'\n",
      " '16.04.2003' '17.12.2003' '27.06.2003' '21.07.2003' '14.06.2003'\n",
      " '12.08.2003' '07.04.2003' '03.03.2002' '21.02.2001' '1999.09.29'\n",
      " '1999.08.20' '2000.08.10' '16.11.2000' '29.03.1998' '2000.06.06'\n",
      " '29.03.2001' '28.12.2001' '2000.09.07' '15.04.1998' '14.03.2000'\n",
      " '2000.03.14' '15.07.2001' '08.11.2005' '14.06.2006' '12.04.2006'\n",
      " '23.03.2006' '17.02.2006' '26.09.2006' '03.03.2007' '19.10.2006'\n",
      " '18.01.2006' '26.09.2006' '17.11.2006' '28.02.2006' '31.10.2006'\n",
      " '12.06.2006' '19.12.2005' '13.05.2004' '01.12.2009' '30.07.2009'\n",
      " '09.12.2009' '24.09.2010' '31.12.2001' '03.08.2007' '03.08.2007'\n",
      " '22.04.2008' '24.06.2007' '04.03.2008' '11.07.2008' '14.05.2008'\n",
      " '19.06.2007' '02.02.2007' '21.08.2007' '18.03.2007' '14.09.2007'\n",
      " '27.09.2007' '31.05.2007' '12.03.2007' '25.03.2008' '17.05.2003'\n",
      " '22.05.2007' '26.06.2008' '28.12.2009' '22.07.2009' '13.06.2009'\n",
      " '01.06.2009' '03.09.2009' '19.04.2009' '05.12.2008' '28.01.2008'\n",
      " '16.06.2009' '09.06.2009' '29.05.2009' '23.08.2001' '29.01.2001'\n",
      " '1999.07.16' '13.12.1999' '31.12.1999' '1999.12.20' '09.01.2001'\n",
      " '10.01.2000' '12.03.2000' '30.07.2000' '2000.11.12' '22.02.2000'\n",
      " '16.11.2000' '25.02.2001']\n"
     ]
    }
   ],
   "source": [
    "print(dataurodzienia)"
   ]
  },
  {
   "cell_type": "code",
   "execution_count": 149,
   "metadata": {},
   "outputs": [
    {
     "name": "stdout",
     "output_type": "stream",
     "text": [
      "['1' '1' '1' '1' '1' '0' '0' '1' '0' '1' '0' '0' '0' '0' '1' '0' '0' '0'\n",
      " '0' '1' '1' '1' '0' '0' '1' '0' '0' '0' '1' '1' '1' '0' '1' '1' '1' '1'\n",
      " '1' '1' '0' '0' '0' '0' '0' '0' '1' '1' '1' '1' '0' '1' '1' '0' '0' '1'\n",
      " '1' '1' '1' '1' '0' '0' '1' '1' '0' '1' '1' '1' '1' '1' '0' '0' '0' '0'\n",
      " '0' '1' '1' '0' '1' '0' '0' '0' '1' '1' '1' '0' '0' '0' '0' '0' '1' '1'\n",
      " '1' '1' '1' '0' '1' '1' '0' '1' '0' '1' '0' '0' '0' '0' '1' '1' '1' '1'\n",
      " '0' '1' '1' '0' '0' '1' '1' '0' '0' '1' '1' '1' '0' '0' '0' '1' '0' '1'\n",
      " '1' '1' '0' '0' '0' '0' '1' '0' '0' '1' '1' '1' '1' '1' '1' '0' '1' '1'\n",
      " '1' '1' '1' '1' '1' '0' '0' '1' '0' '0' '1' '0' '1' '1' '1' '0' '1' '1'\n",
      " '0' '1' '0' '1' '1' '1' '0' '0' '0' '0']\n"
     ]
    }
   ],
   "source": [
    "print(plec)"
   ]
  },
  {
   "cell_type": "code",
   "execution_count": 150,
   "metadata": {},
   "outputs": [],
   "source": [
    "output_csv= output_csv.drop(output_csv.columns[1:10], axis=1)\n",
    "output_csv=output_csv.drop(output_csv.columns[181:190], axis=1)\n",
    "output_csv=output_csv.drop(output_csv.columns[199:217], axis=1)"
   ]
  },
  {
   "cell_type": "code",
   "execution_count": 151,
   "metadata": {},
   "outputs": [],
   "source": [
    "output_csv.insert(1, \"Plec\", plec)\n",
    "output_csv.insert(1, \"DataUrodzenia\", dataurodzienia)"
   ]
  },
  {
   "cell_type": "code",
   "execution_count": 152,
   "metadata": {},
   "outputs": [
    {
     "name": "stdout",
     "output_type": "stream",
     "text": [
      "    ID DataUrodzenia Plec  Wysokosc 1  Wysokosc 2  Wysokosc 3  Wysokosc 4  \\\n",
      "0  101    14.06.2000    1       182.0       183.0       189.0       183.1   \n",
      "1  102    27.12.2000    1       167.0       171.1         NaN         NaN   \n",
      "2  104    2000.11.06    1       187.4       188.4       189.0       190.1   \n",
      "3  105    2000.07.22    1       177.9       180.0       183.3         NaN   \n",
      "4  107    2002.06.24    1       161.7       166.9       170.8       172.8   \n",
      "\n",
      "   Wysokosc 5  Wysokosc 6  Wysokosc 7  ...  InBodyType 9  LocalID 1  \\\n",
      "0         NaN         NaN         NaN  ...         570.0        NaN   \n",
      "1         NaN         NaN         NaN  ...         570.0        NaN   \n",
      "2       190.5         NaN         NaN  ...           NaN        NaN   \n",
      "3       185.2       187.0         NaN  ...           NaN        NaN   \n",
      "4       174.0       174.4         NaN  ...           NaN        NaN   \n",
      "\n",
      "   LocalID 2  LocalID 3  LocalID 4  LocalID 5  LocalID 6  LocalID 7  \\\n",
      "0        NaN        NaN        NaN        NaN        NaN        NaN   \n",
      "1        NaN        NaN        NaN        NaN        NaN        NaN   \n",
      "2        NaN        NaN        NaN        NaN        NaN        NaN   \n",
      "3        NaN        NaN        NaN        NaN        NaN        NaN   \n",
      "4        NaN        NaN        NaN        NaN        NaN        NaN   \n",
      "\n",
      "   LocalID 8  LocalID 9  \n",
      "0        NaN     4111.0  \n",
      "1        NaN     1983.0  \n",
      "2        NaN        NaN  \n",
      "3        NaN        NaN  \n",
      "4        NaN        NaN  \n",
      "\n",
      "[5 rows x 1101 columns]\n"
     ]
    }
   ],
   "source": [
    "print(output_csv.head())\n"
   ]
  },
  {
   "cell_type": "code",
   "execution_count": 153,
   "metadata": {},
   "outputs": [],
   "source": [
    "#output_csv.to_csv(\"Wynikowy_ostateczny.csv\")"
   ]
  },
  {
   "cell_type": "code",
   "execution_count": 158,
   "metadata": {},
   "outputs": [],
   "source": [
    "kolumny = [x[:-2] for x in output_csv.columns[3::9]]"
   ]
  },
  {
   "cell_type": "code",
   "execution_count": 159,
   "metadata": {},
   "outputs": [
    {
     "data": {
      "text/plain": [
       "['Wysokosc',\n",
       " 'WysokoscSiedzeniowa',\n",
       " 'ObwodSzyi',\n",
       " 'ObwodKlatkiPiersiowej',\n",
       " 'ObwodKlatkiPiersiowejWdech',\n",
       " 'ObwodPasa',\n",
       " 'ObwodBioder',\n",
       " 'ObwodUda',\n",
       " 'ObwodRamienia',\n",
       " 'SzerokoscBarkow',\n",
       " 'SzerokoscBioder',\n",
       " 'SzerokoscKlatkiPiersiowej',\n",
       " 'GlebokoscKlatkiPiersiowej',\n",
       " 'FaldNaRamieniu',\n",
       " 'FaldPodLopatka',\n",
       " 'FaldNaBrzuchu',\n",
       " 'CisnienieKrwiSkurczowe',\n",
       " 'CisnienieKrwiRozkurczowe',\n",
       " 'TetnoKrwi',\n",
       " 'DateOfBirth',\n",
       " 'Sex',\n",
       " 'DataBadania 1',\n",
       " 'UpperLimit_WeightNormalRange_',\n",
       " 'TBW_TotalBodyWater_',\n",
       " 'LowerLimit_TBWNormalRange_',\n",
       " 'UpperLimit_TBWNormalRange_',\n",
       " 'ICW_IntracellularWater_',\n",
       " 'LowerLimit_ICWNormalRange_',\n",
       " 'UpperLimit_ICWNormalRange_',\n",
       " 'ECW_ExtracellularWater_',\n",
       " 'LowerLimit_ECWNormalRange_',\n",
       " 'UpperLimit_ECWNormalRange_',\n",
       " 'Protein',\n",
       " 'LowerLimit_ProteinNormalRange_',\n",
       " 'UpperLimit_ProteinNormalRange_',\n",
       " 'Minerals',\n",
       " 'LowerLimit_MineralsNormalRange_',\n",
       " 'UpperLimit_MineralsNormalRange_',\n",
       " 'BFM_BodyFatMass_',\n",
       " 'LowerLimit_BFMNormalRange_',\n",
       " 'UpperLimit_BFMNormalRange_',\n",
       " 'SLM_SoftLeanMass_',\n",
       " 'LowerLimit_SLMNormalRange_',\n",
       " 'UpperLimit_SLMNormalRange_',\n",
       " 'FFM_FatFreeMass_',\n",
       " 'LowerLimit_FFMNormalRange_',\n",
       " 'UpperLimit_FFMNormalRange_',\n",
       " 'SMM_SkeletalMuscleMass_',\n",
       " 'LowerLimit_SMMNormalRange_',\n",
       " 'UpperLimit_SMMNormalRange_',\n",
       " 'BMI_BodyMassIndex_',\n",
       " 'LowerLimit_BMINormalRange_',\n",
       " 'UpperLimit_BMINormalRange_',\n",
       " 'PBF_PercentBodyFat_',\n",
       " 'LowerLimit_PBFNormalRange_',\n",
       " 'UpperLimit_PBFNormalRange_',\n",
       " 'FFMofRightArm',\n",
       " 'LowerLimit_FFMofRightArmNormalRange_',\n",
       " 'UpperLimit_FFMofRightArmNormalRange_',\n",
       " 'FFMpofRightArm',\n",
       " 'FFMofLeftArm',\n",
       " 'LowerLimit_FFMofLeftArmNormalRange_',\n",
       " 'UpperLimit_FFMofLeftArmNormalRange_',\n",
       " 'FFMpofLeftArm',\n",
       " 'FFMofTrunk',\n",
       " 'LowerLimit_FFMofTrunkNormalRange_',\n",
       " 'UpperLimit_FFMofTrunkNormalRange_',\n",
       " 'FFMpofTrunk',\n",
       " 'FFMofRightLeg',\n",
       " 'LowerLimit_FFMofRightLegNormalRange_',\n",
       " 'UpperLimit_FFMofRightLegNormalRange_',\n",
       " 'FFMpofRightLeg',\n",
       " 'FFMofLeftLeg',\n",
       " 'LowerLimit_FFMofLeftLegNormalRange_',\n",
       " 'UpperLimit_FFMofLeftLegNormalRange_',\n",
       " 'FFMpofLeftLeg',\n",
       " 'ECW_TBW',\n",
       " 'BFMofRightArm',\n",
       " 'BFMpofRightArm',\n",
       " 'BFMofLeftArm',\n",
       " 'BFMpofLeftArm',\n",
       " 'BFMofTrunk',\n",
       " 'BFMpofTrunk',\n",
       " 'BFMofRightLeg',\n",
       " 'BFMpofRightLeg',\n",
       " 'BFMofLeftLeg',\n",
       " 'BFMpofLeftLeg',\n",
       " 'InBodyScore',\n",
       " 'TargetWeight',\n",
       " 'WeightControl',\n",
       " 'BFMControl',\n",
       " 'FFMControl',\n",
       " 'BMR_BasalMetabolicRate_',\n",
       " 'WHR_Waist_HipRatio_',\n",
       " 'LowerLimit_WHRNormalRange_',\n",
       " 'UpperLimit_WHRNormalRange_',\n",
       " 'VFL_VisceralFatLevel_',\n",
       " 'ObesityDegree',\n",
       " 'LowerLimit_ObesityDegreeNormalRange_',\n",
       " 'UpperLimit_ObesityDegreeNormalRange_',\n",
       " 'BCM_BodyCellMass_',\n",
       " 'LowerLimit_BCMNormalRange_',\n",
       " 'UpperLimit_BCMNormalRange_',\n",
       " 'AC_ArmCircumference_',\n",
       " 'AMC_ArmMuscleCircumference_',\n",
       " 'BMC_BoneMineralContent_',\n",
       " 'LowerLimit_BMCNormalRange_',\n",
       " 'UpperLimit_BMCNormalRange_',\n",
       " 'MeasuredCircumferenceofNeck',\n",
       " 'MeasuredCircumferenceofChest',\n",
       " 'MeasuredCircumferenceofAbdomen',\n",
       " 'MeasuredCircumferenceofHip',\n",
       " 'MeasuredCircumferenceofRightArm',\n",
       " 'MeasuredCircumferenceofLeftArm',\n",
       " 'MeasuredCircumferenceofRightThigh',\n",
       " 'MeasuredCircumferenceofLeftThigh',\n",
       " 'GrowthScore',\n",
       " 'ObesityDegreeofaChild',\n",
       " 'LowerLimit_ObesityDegreeofaChildNormalRange_',\n",
       " 'UpperLimit_ObesityDegreeofaChildNormalRange_',\n",
       " 'InBodyType',\n",
       " 'LocalID']"
      ]
     },
     "execution_count": 159,
     "metadata": {},
     "output_type": "execute_result"
    }
   ],
   "source": [
    "kolumny"
   ]
  },
  {
   "cell_type": "code",
   "execution_count": 182,
   "metadata": {},
   "outputs": [
    {
     "name": "stdout",
     "output_type": "stream",
     "text": [
      "    ID DataUrodzenia  Plec  Wysokosc 1  Wysokosc 2  Wysokosc 3  Wysokosc 4  \\\n",
      "0  101    14.06.2000     1       182.0       183.0       189.0       183.1   \n",
      "1  102    27.12.2000     1       167.0       171.1         NaN         NaN   \n",
      "2  104    2000.11.06     1       187.4       188.4       189.0       190.1   \n",
      "3  105    2000.07.22     1       177.9       180.0       183.3         NaN   \n",
      "4  107    2002.06.24     1       161.7       166.9       170.8       172.8   \n",
      "\n",
      "   Wysokosc 5  Wysokosc 6  Wysokosc 7  ...  InBodyType 9  LocalID 1  \\\n",
      "0         NaN         NaN         NaN  ...         570.0        NaN   \n",
      "1         NaN         NaN         NaN  ...         570.0        NaN   \n",
      "2       190.5         NaN         NaN  ...           NaN        NaN   \n",
      "3       185.2       187.0         NaN  ...           NaN        NaN   \n",
      "4       174.0       174.4         NaN  ...           NaN        NaN   \n",
      "\n",
      "   LocalID 2  LocalID 3  LocalID 4  LocalID 5  LocalID 6  LocalID 7  \\\n",
      "0        NaN        NaN        NaN        NaN        NaN        NaN   \n",
      "1        NaN        NaN        NaN        NaN        NaN        NaN   \n",
      "2        NaN        NaN        NaN        NaN        NaN        NaN   \n",
      "3        NaN        NaN        NaN        NaN        NaN        NaN   \n",
      "4        NaN        NaN        NaN        NaN        NaN        NaN   \n",
      "\n",
      "   LocalID 8  LocalID 9  \n",
      "0        NaN     4111.0  \n",
      "1        NaN     1983.0  \n",
      "2        NaN        NaN  \n",
      "3        NaN        NaN  \n",
      "4        NaN        NaN  \n",
      "\n",
      "[5 rows x 1101 columns]\n"
     ]
    }
   ],
   "source": [
    "output_csv = pd.read_csv(\"Wynikowy_ostateczny.csv\", index_col=0)\n",
    "print(output_csv.head())\n",
    "df = pd.DataFrame(None, columns=kolumny)"
   ]
  },
  {
   "cell_type": "code",
   "execution_count": 180,
   "metadata": {},
   "outputs": [],
   "source": [
    "#numeryczne=df.columns[3:99]+df.columns[100:123]"
   ]
  },
  {
   "cell_type": "code",
   "execution_count": null,
   "metadata": {},
   "outputs": [],
   "source": []
  }
 ],
 "metadata": {
  "interpreter": {
   "hash": "b3ba2566441a7c06988d0923437866b63cedc61552a5af99d1f4fb67d367b25f"
  },
  "kernelspec": {
   "display_name": "Python 3.9.7 ('base')",
   "language": "python",
   "name": "python3"
  },
  "language_info": {
   "codemirror_mode": {
    "name": "ipython",
    "version": 3
   },
   "file_extension": ".py",
   "mimetype": "text/x-python",
   "name": "python",
   "nbconvert_exporter": "python",
   "pygments_lexer": "ipython3",
   "version": "3.9.7"
  },
  "orig_nbformat": 4
 },
 "nbformat": 4,
 "nbformat_minor": 2
}
