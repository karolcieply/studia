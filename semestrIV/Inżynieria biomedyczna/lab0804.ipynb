{
 "cells": [
  {
   "cell_type": "code",
   "execution_count": 1,
   "metadata": {},
   "outputs": [],
   "source": [
    "import pandas as pd\n",
    "import seaborn as sns\n",
    "import matplotlib.pyplot as plt\n",
    "import numpy as np"
   ]
  },
  {
   "cell_type": "code",
   "execution_count": 2,
   "metadata": {},
   "outputs": [],
   "source": [
    "inbody = pd.read_csv('inbody.csv')\n",
    "inbody.drop(inbody.columns[[1,2]], axis=1, inplace=True)\n",
    "inbody.drop(inbody.columns[list(range(122,len(inbody.columns)))], axis=1, inplace=True)"
   ]
  },
  {
   "cell_type": "code",
   "execution_count": 3,
   "metadata": {},
   "outputs": [],
   "source": [
    "# x = inbody[\"Sex\"]\n",
    "# #zamiast attach w R można tak \n",
    "# x[:] = None\n",
    "# print(x)\n",
    "# print(inbody)"
   ]
  },
  {
   "cell_type": "code",
   "execution_count": 4,
   "metadata": {},
   "outputs": [],
   "source": [
    "#sns.histplot(inbody[\"Age\"])\n",
    "#plt.savefig(\"test.png\")"
   ]
  },
  {
   "cell_type": "code",
   "execution_count": 5,
   "metadata": {},
   "outputs": [],
   "source": [
    "#sns.pointplot(y=inbody[\"Age\"], x=inbody.index)"
   ]
  },
  {
   "cell_type": "code",
   "execution_count": 6,
   "metadata": {},
   "outputs": [],
   "source": [
    "#sns.barplot(y=inbody[\"Age\"], x=inbody.index)"
   ]
  },
  {
   "cell_type": "code",
   "execution_count": 7,
   "metadata": {},
   "outputs": [
    {
     "name": "stdout",
     "output_type": "stream",
     "text": [
      "33    142\n",
      "Name: id, dtype: int64\n",
      "id                                                               142\n",
      "DateOfBirth                                               16.11.1990\n",
      "Age                                                             24.8\n",
      "Sex                                                                M\n",
      "DataBadania                                     2015.09.28. 10:34:27\n",
      "                                                        ...         \n",
      "LowerLimit_ObesityDegreeofaChildNormalRange_                       0\n",
      "UpperLimit_ObesityDegreeofaChildNormalRange_                       0\n",
      "InBodyType                                                       230\n",
      "LocalID                                                            0\n",
      "kHz5_LAImpedance                                                25.4\n",
      "Name: 33, Length: 122, dtype: object\n",
      "      id DateOfBirth   Age Sex           DataBadania  Weight  \\\n",
      "33   142  16.11.1999  15.8   M  2015.09.28. 10:34:27    61.9   \n",
      "115  142  16.11.1999  16.3   M  2016.03.10. 12:56:58    64.1   \n",
      "518  142  1999.11.16  18.3   M  2018.03.23. 10:22:46    66.9   \n",
      "\n",
      "     LowerLimit_WeightNormalRange_  UpperLimit_WeightNormalRange_  \\\n",
      "33                            56.9                           77.0   \n",
      "115                           57.1                           77.3   \n",
      "518                           57.9                           78.3   \n",
      "\n",
      "     TBW_TotalBodyWater_  LowerLimit_TBWNormalRange_  ...  \\\n",
      "33                  40.4                        37.7  ...   \n",
      "115                 42.1                        37.8  ...   \n",
      "518                 43.6                        38.3  ...   \n",
      "\n",
      "     MeasuredCircumferenceofLeftArm  MeasuredCircumferenceofRightThigh  \\\n",
      "33                              0.0                                0.0   \n",
      "115                            28.5                               50.4   \n",
      "518                             0.0                                0.0   \n",
      "\n",
      "     MeasuredCircumferenceofLeftThigh  GrowthScore  ObesityDegreeofaChild  \\\n",
      "33                                0.0            0                      0   \n",
      "115                              50.2           99                    100   \n",
      "518                               0.0            0                      0   \n",
      "\n",
      "     LowerLimit_ObesityDegreeofaChildNormalRange_  \\\n",
      "33                                              0   \n",
      "115                                            90   \n",
      "518                                           370   \n",
      "\n",
      "     UpperLimit_ObesityDegreeofaChildNormalRange_  InBodyType  LocalID  \\\n",
      "33                                              0         230        0   \n",
      "115                                           110         570     2022   \n",
      "518                                             0           0        0   \n",
      "\n",
      "     kHz5_LAImpedance  \n",
      "33               25.4  \n",
      "115             349.3  \n",
      "518             239.6  \n",
      "\n",
      "[3 rows x 122 columns]\n"
     ]
    }
   ],
   "source": [
    "tooOld = inbody[inbody[\"Age\"]>=21][\"id\"]\n",
    "print(tooOld)\n",
    "print(inbody.iloc[33])\n",
    "inbody.loc[inbody[\"Age\"]>=21, \"DateOfBirth\"]=\"16.11.1999\"\n",
    "inbody.loc[inbody[\"Age\"]>=21, \"Age\"]=15.8\n",
    "print(inbody[inbody[\"id\"]==142])\n",
    "#drop column with id tooOld\n",
    "#inbody.drop(tooOld, axis=0, inplace=True)"
   ]
  },
  {
   "cell_type": "code",
   "execution_count": 8,
   "metadata": {},
   "outputs": [
    {
     "name": "stdout",
     "output_type": "stream",
     "text": [
      "Index(['id', 'DateOfBirth', 'Age', 'Sex', 'DataBadania', 'Weight',\n",
      "       'LowerLimit_WeightNormalRange_', 'UpperLimit_WeightNormalRange_',\n",
      "       'TBW_TotalBodyWater_', 'LowerLimit_TBWNormalRange_',\n",
      "       ...\n",
      "       'MeasuredCircumferenceofLeftArm', 'MeasuredCircumferenceofRightThigh',\n",
      "       'MeasuredCircumferenceofLeftThigh', 'GrowthScore',\n",
      "       'ObesityDegreeofaChild', 'LowerLimit_ObesityDegreeofaChildNormalRange_',\n",
      "       'UpperLimit_ObesityDegreeofaChildNormalRange_', 'InBodyType', 'LocalID',\n",
      "       'kHz5_LAImpedance'],\n",
      "      dtype='object', length=122)\n"
     ]
    }
   ],
   "source": [
    "print(inbody.columns )\n",
    "toDrop = [index for index, column in enumerate(inbody.columns) if \"Im\" in column]\n",
    "#drop toDrop\n",
    "inbody.drop(inbody.columns[toDrop], axis=1, inplace=True)"
   ]
  },
  {
   "cell_type": "code",
   "execution_count": 9,
   "metadata": {},
   "outputs": [],
   "source": [
    "#for col in inbody.columns:\n",
    "inbody[inbody.values == 0] = np.nan"
   ]
  },
  {
   "cell_type": "code",
   "execution_count": 10,
   "metadata": {},
   "outputs": [],
   "source": [
    "colToFix = inbody.columns[[75,76,76]]\n",
    "for col in colToFix:\n",
    "    inbody.loc[inbody[col]==0, col]= np.nan"
   ]
  },
  {
   "cell_type": "code",
   "execution_count": 11,
   "metadata": {},
   "outputs": [],
   "source": [
    "inbody.to_csv(\"inbody_out.csv\")"
   ]
  },
  {
   "cell_type": "code",
   "execution_count": 12,
   "metadata": {},
   "outputs": [],
   "source": [
    "inbody.loc[inbody[\"Sex\"]==\"F\", \"Sex\"] = 0\n",
    "inbody.loc[inbody[\"Sex\"]==\"M\", \"Sex\"] = 1"
   ]
  },
  {
   "cell_type": "code",
   "execution_count": 13,
   "metadata": {},
   "outputs": [
    {
     "name": "stdout",
     "output_type": "stream",
     "text": [
      "    id DateOfBirth   Age Sex           DataBadania  Weight  \\\n",
      "0  101  14.06.2000  15.3   1  2015.09.25. 09:13:11    80.5   \n",
      "1  102  27.12.2000  14.7   1  2015.09.25. 09:20:27    48.8   \n",
      "2  104  06.11.2000  14.8   1  2015.09.25. 09:34:48    63.5   \n",
      "3  105  22.07.2000  15.2   1  2015.09.25. 09:37:26    59.1   \n",
      "4  107  24.06.2002  13.3   1  2015.09.25. 09:55:02    72.2   \n",
      "\n",
      "   LowerLimit_WeightNormalRange_  UpperLimit_WeightNormalRange_  \\\n",
      "0                           62.7                           84.8   \n",
      "1                           51.2                           69.3   \n",
      "2                           66.1                           89.5   \n",
      "3                           59.8                           80.8   \n",
      "4                           46.9                           63.5   \n",
      "\n",
      "   TBW_TotalBodyWater_  LowerLimit_TBWNormalRange_  ...  \\\n",
      "0                 49.8                        41.5  ...   \n",
      "1                 31.7                        33.9  ...   \n",
      "2                 42.6                        43.7  ...   \n",
      "3                 39.8                        39.5  ...   \n",
      "4                 33.1                        31.0  ...   \n",
      "\n",
      "   MeasuredCircumferenceofRightArm  MeasuredCircumferenceofLeftArm  \\\n",
      "0                              NaN                             NaN   \n",
      "1                              NaN                             NaN   \n",
      "2                              NaN                             NaN   \n",
      "3                              NaN                             NaN   \n",
      "4                              NaN                             NaN   \n",
      "\n",
      "   MeasuredCircumferenceofRightThigh  MeasuredCircumferenceofLeftThigh  \\\n",
      "0                                NaN                               NaN   \n",
      "1                                NaN                               NaN   \n",
      "2                                NaN                               NaN   \n",
      "3                                NaN                               NaN   \n",
      "4                                NaN                               NaN   \n",
      "\n",
      "   GrowthScore  ObesityDegreeofaChild  \\\n",
      "0        123.0                  111.0   \n",
      "1         85.0                   83.0   \n",
      "2        102.0                   82.0   \n",
      "3         98.0                   87.0   \n",
      "4         59.0                  137.0   \n",
      "\n",
      "   LowerLimit_ObesityDegreeofaChildNormalRange_  \\\n",
      "0                                           NaN   \n",
      "1                                           NaN   \n",
      "2                                           NaN   \n",
      "3                                           NaN   \n",
      "4                                           NaN   \n",
      "\n",
      "   UpperLimit_ObesityDegreeofaChildNormalRange_  InBodyType  LocalID  \n",
      "0                                           NaN       230.0      NaN  \n",
      "1                                           NaN       230.0      NaN  \n",
      "2                                           NaN       230.0      NaN  \n",
      "3                                           NaN       230.0      NaN  \n",
      "4                                           NaN       230.0      NaN  \n",
      "\n",
      "[5 rows x 107 columns]\n"
     ]
    }
   ],
   "source": [
    "print(inbody.head())"
   ]
  },
  {
   "cell_type": "code",
   "execution_count": null,
   "metadata": {},
   "outputs": [],
   "source": []
  }
 ],
 "metadata": {
  "interpreter": {
   "hash": "b3ba2566441a7c06988d0923437866b63cedc61552a5af99d1f4fb67d367b25f"
  },
  "kernelspec": {
   "display_name": "Python 3.9.7 ('base')",
   "language": "python",
   "name": "python3"
  },
  "language_info": {
   "codemirror_mode": {
    "name": "ipython",
    "version": 3
   },
   "file_extension": ".py",
   "mimetype": "text/x-python",
   "name": "python",
   "nbconvert_exporter": "python",
   "pygments_lexer": "ipython3",
   "version": "3.9.7"
  },
  "orig_nbformat": 4
 },
 "nbformat": 4,
 "nbformat_minor": 2
}
