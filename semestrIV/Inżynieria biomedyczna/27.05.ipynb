{
 "cells": [
  {
   "cell_type": "code",
   "execution_count": 28,
   "metadata": {},
   "outputs": [],
   "source": [
    "import pandas as pd\n",
    "from sklearn.model_selection import train_test_split\n",
    "from sklearn.metrics import mean_squared_error"
   ]
  },
  {
   "cell_type": "code",
   "execution_count": 29,
   "metadata": {},
   "outputs": [],
   "source": [
    "dreg = pd.read_csv(\"dane_reg.csv\", sep=\";\", decimal=\",\")"
   ]
  },
  {
   "cell_type": "code",
   "execution_count": 30,
   "metadata": {},
   "outputs": [
    {
     "data": {
      "text/html": [
       "<div>\n",
       "<style scoped>\n",
       "    .dataframe tbody tr th:only-of-type {\n",
       "        vertical-align: middle;\n",
       "    }\n",
       "\n",
       "    .dataframe tbody tr th {\n",
       "        vertical-align: top;\n",
       "    }\n",
       "\n",
       "    .dataframe thead th {\n",
       "        text-align: right;\n",
       "    }\n",
       "</style>\n",
       "<table border=\"1\" class=\"dataframe\">\n",
       "  <thead>\n",
       "    <tr style=\"text-align: right;\">\n",
       "      <th></th>\n",
       "      <th>Plec</th>\n",
       "      <th>Wysokosc</th>\n",
       "      <th>WysokoscSiedzeniowa</th>\n",
       "      <th>ObwodSzyi</th>\n",
       "      <th>ObwodKlatkiPiersiowej</th>\n",
       "      <th>ObwodKlatkiPiersiowejWdech</th>\n",
       "      <th>ObwodPasa</th>\n",
       "      <th>ObwodBioder</th>\n",
       "      <th>ObwodUda</th>\n",
       "      <th>ObwodRamienia</th>\n",
       "      <th>...</th>\n",
       "      <th>GlebokoscKlatkiPiersiowej</th>\n",
       "      <th>FaldNaRamieniu</th>\n",
       "      <th>FaldPodLopatka</th>\n",
       "      <th>FaldNaBrzuchu</th>\n",
       "      <th>CisnienieKrwiSkurczowe</th>\n",
       "      <th>CisnienieKrwiRozkurczowe</th>\n",
       "      <th>TetnoKrwi</th>\n",
       "      <th>Age</th>\n",
       "      <th>Weight</th>\n",
       "      <th>TBW</th>\n",
       "    </tr>\n",
       "  </thead>\n",
       "  <tbody>\n",
       "    <tr>\n",
       "      <th>0</th>\n",
       "      <td>1</td>\n",
       "      <td>182.0</td>\n",
       "      <td>96.0</td>\n",
       "      <td>39.0</td>\n",
       "      <td>86.0</td>\n",
       "      <td>89.0</td>\n",
       "      <td>83.0</td>\n",
       "      <td>89.0</td>\n",
       "      <td>50.0</td>\n",
       "      <td>29.0</td>\n",
       "      <td>...</td>\n",
       "      <td>21.0</td>\n",
       "      <td>14.0</td>\n",
       "      <td>10.0</td>\n",
       "      <td>19.0</td>\n",
       "      <td>128.0</td>\n",
       "      <td>69.0</td>\n",
       "      <td>66.0</td>\n",
       "      <td>15.3</td>\n",
       "      <td>80.5</td>\n",
       "      <td>49.8</td>\n",
       "    </tr>\n",
       "    <tr>\n",
       "      <th>1</th>\n",
       "      <td>1</td>\n",
       "      <td>183.0</td>\n",
       "      <td>95.4</td>\n",
       "      <td>39.0</td>\n",
       "      <td>86.0</td>\n",
       "      <td>92.0</td>\n",
       "      <td>80.0</td>\n",
       "      <td>100.0</td>\n",
       "      <td>54.0</td>\n",
       "      <td>29.0</td>\n",
       "      <td>...</td>\n",
       "      <td>20.0</td>\n",
       "      <td>12.0</td>\n",
       "      <td>13.5</td>\n",
       "      <td>26.0</td>\n",
       "      <td>114.5</td>\n",
       "      <td>71.5</td>\n",
       "      <td>85.5</td>\n",
       "      <td>15.7</td>\n",
       "      <td>80.4</td>\n",
       "      <td>51.1</td>\n",
       "    </tr>\n",
       "    <tr>\n",
       "      <th>2</th>\n",
       "      <td>1</td>\n",
       "      <td>189.0</td>\n",
       "      <td>96.0</td>\n",
       "      <td>39.0</td>\n",
       "      <td>84.5</td>\n",
       "      <td>89.5</td>\n",
       "      <td>88.0</td>\n",
       "      <td>103.0</td>\n",
       "      <td>55.5</td>\n",
       "      <td>29.5</td>\n",
       "      <td>...</td>\n",
       "      <td>20.5</td>\n",
       "      <td>9.0</td>\n",
       "      <td>12.0</td>\n",
       "      <td>18.5</td>\n",
       "      <td>NaN</td>\n",
       "      <td>NaN</td>\n",
       "      <td>NaN</td>\n",
       "      <td>16.3</td>\n",
       "      <td>84.8</td>\n",
       "      <td>52.6</td>\n",
       "    </tr>\n",
       "    <tr>\n",
       "      <th>3</th>\n",
       "      <td>1</td>\n",
       "      <td>183.1</td>\n",
       "      <td>96.5</td>\n",
       "      <td>40.0</td>\n",
       "      <td>91.0</td>\n",
       "      <td>94.0</td>\n",
       "      <td>90.0</td>\n",
       "      <td>104.0</td>\n",
       "      <td>62.0</td>\n",
       "      <td>32.0</td>\n",
       "      <td>...</td>\n",
       "      <td>21.8</td>\n",
       "      <td>17.0</td>\n",
       "      <td>15.0</td>\n",
       "      <td>26.0</td>\n",
       "      <td>138.0</td>\n",
       "      <td>59.0</td>\n",
       "      <td>78.0</td>\n",
       "      <td>16.8</td>\n",
       "      <td>91.2</td>\n",
       "      <td>56.2</td>\n",
       "    </tr>\n",
       "    <tr>\n",
       "      <th>4</th>\n",
       "      <td>1</td>\n",
       "      <td>NaN</td>\n",
       "      <td>NaN</td>\n",
       "      <td>NaN</td>\n",
       "      <td>NaN</td>\n",
       "      <td>NaN</td>\n",
       "      <td>NaN</td>\n",
       "      <td>NaN</td>\n",
       "      <td>NaN</td>\n",
       "      <td>NaN</td>\n",
       "      <td>...</td>\n",
       "      <td>NaN</td>\n",
       "      <td>NaN</td>\n",
       "      <td>NaN</td>\n",
       "      <td>NaN</td>\n",
       "      <td>NaN</td>\n",
       "      <td>NaN</td>\n",
       "      <td>NaN</td>\n",
       "      <td>NaN</td>\n",
       "      <td>NaN</td>\n",
       "      <td>NaN</td>\n",
       "    </tr>\n",
       "  </tbody>\n",
       "</table>\n",
       "<p>5 rows × 23 columns</p>\n",
       "</div>"
      ],
      "text/plain": [
       "   Plec  Wysokosc  WysokoscSiedzeniowa  ObwodSzyi  ObwodKlatkiPiersiowej  \\\n",
       "0     1     182.0                 96.0       39.0                   86.0   \n",
       "1     1     183.0                 95.4       39.0                   86.0   \n",
       "2     1     189.0                 96.0       39.0                   84.5   \n",
       "3     1     183.1                 96.5       40.0                   91.0   \n",
       "4     1       NaN                  NaN        NaN                    NaN   \n",
       "\n",
       "   ObwodKlatkiPiersiowejWdech  ObwodPasa  ObwodBioder  ObwodUda  \\\n",
       "0                        89.0       83.0         89.0      50.0   \n",
       "1                        92.0       80.0        100.0      54.0   \n",
       "2                        89.5       88.0        103.0      55.5   \n",
       "3                        94.0       90.0        104.0      62.0   \n",
       "4                         NaN        NaN          NaN       NaN   \n",
       "\n",
       "   ObwodRamienia  ...  GlebokoscKlatkiPiersiowej  FaldNaRamieniu  \\\n",
       "0           29.0  ...                       21.0            14.0   \n",
       "1           29.0  ...                       20.0            12.0   \n",
       "2           29.5  ...                       20.5             9.0   \n",
       "3           32.0  ...                       21.8            17.0   \n",
       "4            NaN  ...                        NaN             NaN   \n",
       "\n",
       "   FaldPodLopatka  FaldNaBrzuchu  CisnienieKrwiSkurczowe  \\\n",
       "0            10.0           19.0                   128.0   \n",
       "1            13.5           26.0                   114.5   \n",
       "2            12.0           18.5                     NaN   \n",
       "3            15.0           26.0                   138.0   \n",
       "4             NaN            NaN                     NaN   \n",
       "\n",
       "   CisnienieKrwiRozkurczowe  TetnoKrwi   Age  Weight   TBW  \n",
       "0                      69.0       66.0  15.3    80.5  49.8  \n",
       "1                      71.5       85.5  15.7    80.4  51.1  \n",
       "2                       NaN        NaN  16.3    84.8  52.6  \n",
       "3                      59.0       78.0  16.8    91.2  56.2  \n",
       "4                       NaN        NaN   NaN     NaN   NaN  \n",
       "\n",
       "[5 rows x 23 columns]"
      ]
     },
     "execution_count": 30,
     "metadata": {},
     "output_type": "execute_result"
    }
   ],
   "source": [
    "dreg.head()"
   ]
  },
  {
   "cell_type": "code",
   "execution_count": 31,
   "metadata": {},
   "outputs": [],
   "source": [
    "dfc = dreg.dropna()"
   ]
  },
  {
   "cell_type": "code",
   "execution_count": 32,
   "metadata": {},
   "outputs": [],
   "source": [
    "label = dfc.pop(\"TBW\")"
   ]
  },
  {
   "cell_type": "code",
   "execution_count": 33,
   "metadata": {},
   "outputs": [],
   "source": [
    "x_train, x_test, y_train, y_test = train_test_split(dfc, label, test_size=0.2)"
   ]
  },
  {
   "cell_type": "code",
   "execution_count": 34,
   "metadata": {},
   "outputs": [
    {
     "data": {
      "text/plain": [
       "LinearRegression()"
      ]
     },
     "execution_count": 34,
     "metadata": {},
     "output_type": "execute_result"
    }
   ],
   "source": [
    "from sklearn.linear_model import LinearRegression\n",
    "lm_tbw = LinearRegression()\n",
    "lm_tbw.fit(x_train, y_train)"
   ]
  },
  {
   "cell_type": "code",
   "execution_count": 35,
   "metadata": {},
   "outputs": [
    {
     "data": {
      "text/plain": [
       "array([30.62355026, 20.95417597, 27.03563976, 20.127491  , 22.38978287,\n",
       "       31.06129271, 23.48112809, 22.01209695, 25.90436855, 40.67057315,\n",
       "       37.67749039, 25.54716208, 22.95784451, 37.24068452, 36.03877687,\n",
       "       22.95439125, 28.74873598, 46.39062498, 30.11910103, 42.00763935,\n",
       "       48.37668014, 38.81298934, 34.93641614, 23.54880325, 42.42547273,\n",
       "       40.16794069, 30.61807094, 25.35185197, 20.44937214, 40.44414436,\n",
       "       17.54338993, 29.63898764, 32.36343975, 36.08687355, 30.14330704,\n",
       "       33.56103436, 26.77868457, 25.0429776 , 28.6146814 , 41.64497396,\n",
       "       28.1504804 , 18.88189066, 38.43530809, 23.35250108, 27.13276656,\n",
       "       19.94180294, 41.57736093, 31.54631891, 31.03047868, 30.49193613,\n",
       "       29.06803339, 31.31687227, 53.33481416, 39.50634518, 19.01273154,\n",
       "       32.49155646, 18.99844653, 20.30756113, 32.15977732, 23.2842679 ,\n",
       "       26.6631711 , 44.39827121, 31.11902452, 26.93778191, 34.54408727,\n",
       "       28.84469949, 39.93971471, 29.64915634, 19.85738415, 32.04818591,\n",
       "       30.79257769, 23.54105107, 37.62248759, 54.12976085, 30.93560047,\n",
       "       34.97637076, 36.74754822, 46.57759362, 39.02838072, 32.56671899,\n",
       "       44.66543574, 32.7270935 , 24.4631962 , 27.68184792, 28.18515675,\n",
       "       17.21975766, 34.65084117, 19.95733404, 43.30100166, 28.01580967,\n",
       "       20.69610158, 49.50975686, 28.20099838, 25.96393357, 28.89414558,\n",
       "       34.35039288, 26.78270087, 32.71627269, 31.2394631 , 24.85277503,\n",
       "       30.05188264, 35.5822046 , 50.68833166, 38.21341956, 35.64455992,\n",
       "       22.45517713, 24.68126245, 51.93573517, 25.02080799, 30.93305265,\n",
       "       31.3280883 , 37.26093314, 27.46331201, 16.68318211, 36.69289421,\n",
       "       31.07990272, 24.40878586, 32.72649856, 37.61465333, 19.81335668,\n",
       "       42.32305599, 32.0101831 , 21.85871947, 21.51388139])"
      ]
     },
     "execution_count": 35,
     "metadata": {},
     "output_type": "execute_result"
    }
   ],
   "source": [
    "lm_tbw.predict(x_test)"
   ]
  },
  {
   "cell_type": "code",
   "execution_count": 36,
   "metadata": {},
   "outputs": [
    {
     "name": "stdout",
     "output_type": "stream",
     "text": [
      "2.03\n"
     ]
    }
   ],
   "source": [
    "mse = round(mean_squared_error(y_test, lm_tbw.predict(x_test)), 2)\n",
    "print(mse)"
   ]
  },
  {
   "cell_type": "code",
   "execution_count": 37,
   "metadata": {},
   "outputs": [
    {
     "data": {
      "text/plain": [
       "1.01"
      ]
     },
     "execution_count": 37,
     "metadata": {},
     "output_type": "execute_result"
    }
   ],
   "source": [
    "round(mse**1/2,2)"
   ]
  },
  {
   "cell_type": "code",
   "execution_count": 38,
   "metadata": {},
   "outputs": [
    {
     "name": "stdout",
     "output_type": "stream",
     "text": [
      "5.09\n",
      "2.54\n"
     ]
    }
   ],
   "source": [
    "from sklearn.tree import DecisionTreeRegressor\n",
    "reg = DecisionTreeRegressor()\n",
    "reg.fit(x_train, y_train)\n",
    "mse = round(mean_squared_error(y_test, reg.predict(x_test)), 2)\n",
    "print(mse)\n",
    "print(round(mse**1/2,2))\n"
   ]
  },
  {
   "cell_type": "code",
   "execution_count": 39,
   "metadata": {},
   "outputs": [
    {
     "name": "stdout",
     "output_type": "stream",
     "text": [
      "1.96\n",
      "0.98\n"
     ]
    }
   ],
   "source": [
    "from sklearn.ensemble import RandomForestRegressor\n",
    "reg = RandomForestRegressor(n_estimators=100)\n",
    "reg.fit(x_train, y_train)\n",
    "mse = round(mean_squared_error(y_test, reg.predict(x_test)), 2)\n",
    "print(mse)\n",
    "print(round(mse**1/2,2))"
   ]
  },
  {
   "cell_type": "code",
   "execution_count": 40,
   "metadata": {},
   "outputs": [
    {
     "name": "stdout",
     "output_type": "stream",
     "text": [
      "1.93\n",
      "0.96\n"
     ]
    }
   ],
   "source": [
    "from sklearn.ensemble import GradientBoostingRegressor\n",
    "reg = GradientBoostingRegressor(n_estimators=100)\n",
    "reg.fit(x_train, y_train)\n",
    "mse = round(mean_squared_error(y_test, reg.predict(x_test)), 2)\n",
    "print(mse)\n",
    "print(round(mse**1/2,2))\n"
   ]
  },
  {
   "cell_type": "code",
   "execution_count": 41,
   "metadata": {},
   "outputs": [
    {
     "name": "stdout",
     "output_type": "stream",
     "text": [
      "2.04\n",
      "1.02\n"
     ]
    }
   ],
   "source": [
    "from sklearn.svm import SVR\n",
    "reg = SVR(kernel='linear')\n",
    "reg.fit(x_train, y_train)\n",
    "mse = round(mean_squared_error(y_test, reg.predict(x_test)), 2)\n",
    "print(mse)\n",
    "print(round(mse**1/2,2))"
   ]
  },
  {
   "cell_type": "code",
   "execution_count": 42,
   "metadata": {},
   "outputs": [
    {
     "data": {
      "text/plain": [
       "GridSearchCV(cv=3, estimator=SVR(kernel='linear'),\n",
       "             param_grid={'C': [0.1, 1, 10]})"
      ]
     },
     "execution_count": 42,
     "metadata": {},
     "output_type": "execute_result"
    }
   ],
   "source": [
    "from sklearn.model_selection import GridSearchCV\n",
    "param_grid = {'C': [0.1, 1, 10]}\n",
    "grid = GridSearchCV(SVR(kernel='linear'), param_grid, cv=3)\n",
    "grid.fit(x_train, y_train)"
   ]
  },
  {
   "cell_type": "code",
   "execution_count": 43,
   "metadata": {},
   "outputs": [
    {
     "name": "stdout",
     "output_type": "stream",
     "text": [
      "2.25\n",
      "1.12\n"
     ]
    }
   ],
   "source": [
    "mse = round(mean_squared_error(y_test, grid.predict(x_test)), 2)\n",
    "print(mse)\n",
    "print(round(mse**1/2,2))\n"
   ]
  },
  {
   "cell_type": "code",
   "execution_count": 44,
   "metadata": {},
   "outputs": [
    {
     "name": "stdout",
     "output_type": "stream",
     "text": [
      "1.86\n",
      "0.93\n"
     ]
    }
   ],
   "source": [
    "from sklearn.model_selection import GridSearchCV\n",
    "param_grid = {'C': [0.1, 1, 10]}\n",
    "grid = GridSearchCV(SVR(kernel='poly'), param_grid, cv=4)\n",
    "grid.fit(x_train, y_train)\n",
    "mse = round(mean_squared_error(y_test, grid.predict(x_test)), 2)\n",
    "print(mse)\n",
    "print(round(mse**1/2,2))\n",
    "\n"
   ]
  },
  {
   "cell_type": "code",
   "execution_count": 45,
   "metadata": {},
   "outputs": [
    {
     "name": "stdout",
     "output_type": "stream",
     "text": [
      "1.92\n",
      "0.96\n"
     ]
    }
   ],
   "source": [
    "from sklearn.model_selection import GridSearchCV\n",
    "param_grid = {'C': [0.1, 1, 10]}\n",
    "grid = GridSearchCV(SVR(kernel='rbf'), param_grid, cv=4)\n",
    "grid.fit(x_train, y_train)\n",
    "mse = round(mean_squared_error(y_test, grid.predict(x_test)), 2)\n",
    "print(mse)\n",
    "print(round(mse**1/2,2))\n"
   ]
  },
  {
   "cell_type": "code",
   "execution_count": null,
   "metadata": {},
   "outputs": [],
   "source": []
  }
 ],
 "metadata": {
  "interpreter": {
   "hash": "ad2bdc8ecc057115af97d19610ffacc2b4e99fae6737bb82f5d7fb13d2f2c186"
  },
  "kernelspec": {
   "display_name": "Python 3.9.7 ('base')",
   "language": "python",
   "name": "python3"
  },
  "language_info": {
   "codemirror_mode": {
    "name": "ipython",
    "version": 3
   },
   "file_extension": ".py",
   "mimetype": "text/x-python",
   "name": "python",
   "nbconvert_exporter": "python",
   "pygments_lexer": "ipython3",
   "version": "3.9.7"
  },
  "orig_nbformat": 4
 },
 "nbformat": 4,
 "nbformat_minor": 2
}
