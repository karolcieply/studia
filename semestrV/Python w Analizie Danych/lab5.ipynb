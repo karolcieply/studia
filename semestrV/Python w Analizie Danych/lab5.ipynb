{
 "cells": [
  {
   "cell_type": "code",
   "execution_count": null,
   "id": "f6b5798b-bae6-4f0d-ad10-fbf19af010c6",
   "metadata": {},
   "outputs": [],
   "source": [
    "import plotly.io as pio\n",
    "import plotly.graph_objects as go\n",
    "from plotly.subplots import make_subplots\n",
    "import numpy as np\n"
   ]
  },
  {
   "cell_type": "code",
   "execution_count": null,
   "id": "71bcbe53-3109-4ca3-854a-145e61f16bd5",
   "metadata": {},
   "outputs": [],
   "source": [
    "x = np.linspace(-2*np.pi,2*np.pi,100)\n",
    "\n",
    "y1 = np.sin(x)\n",
    "y2 = np.cos(x)\n",
    "\n",
    "fig = go.Figure(data=[go.Scatter(x=x, y=y1, name=\"sinus\"), \n",
    "                      go.Scatter(x=x, y=y2, name=\"cosinus\")])\n",
    "\n",
    "fig.update_layout(\n",
    "    title=\"sinus i cosinus\",\n",
    "    xaxis_title=\"Wartości X\",\n",
    "    yaxis_title=\"Wartości Y\",\n",
    "    legend_title=\"Legenda\",\n",
    "    font=dict(\n",
    "        family=\"Courier New, monospace\",\n",
    "        size=18,\n",
    "        color=\"RebeccaPurple\"\n",
    "    )\n",
    ")\n",
    "\n",
    "fig.show()"
   ]
  },
  {
   "cell_type": "code",
   "execution_count": null,
   "id": "b82b3924-6efb-4aaf-8d6c-d34613501515",
   "metadata": {},
   "outputs": [],
   "source": [
    "from bokeh.plotting import figure, output_file, show\n",
    "\n",
    "\n",
    "x = np.linspace(0,2*np.pi, 100)\n",
    "y_s = np.sin(x)\n",
    "y_c = np.cos(x)\n",
    "\n",
    "output_file(\"sin_i_cos.html\")\n",
    "\n",
    "p = figure(\n",
    "   tools=\"pan,box_zoom,reset,save\",\n",
    "   x_range=[0,2*np.pi], y_range=[-1, 1], title=\"przybliżenie sinus i cosinus\",\n",
    "   x_axis_label='x', y_axis_label='f(x)'\n",
    ")\n",
    "\n",
    "\n",
    "p.line(x, y_s, legend_label=\"y=sin x\", line_color=\"red\", line_width=3)\n",
    "p.line(x, y_c, legend_label=\"y=cos x\", line_color=\"orange\", line_width=3)\n",
    "\n",
    "show(p)"
   ]
  },
  {
   "cell_type": "code",
   "execution_count": null,
   "id": "bc788af2-4f14-4bdc-9a02-0e1f1902fdfc",
   "metadata": {},
   "outputs": [],
   "source": [
    "x1 = np.linspace(-3,3,100)\n",
    "x2 = np.linspace(-3,3,100)\n",
    "x3 = np.linspace(-2,2,100)\n",
    "x4 = np.linspace(-2,2,100)\n",
    "\n",
    "y1 = x1\n",
    "y2 = x2**2\n",
    "y3 = x3**3\n",
    "y4 = x4**4\n",
    "\n",
    "fig = make_subplots(rows=2, cols=2)\n",
    "fig.add_trace(go.Scatter(x=x1, y=y1, mode=\"lines\", name=\"x\"), row=1, col=1)\n",
    "fig.add_trace(go.Scatter(x=x2, y=y2, mode=\"lines\", name=\"x^2\"), row=1, col=2)\n",
    "fig.add_trace(go.Scatter(x=x3, y=y3, mode=\"lines\", name=\"x^3\"), row=2, col=1)\n",
    "fig.add_trace(go.Scatter(x=x4, y=y4, mode=\"lines\", name=\"x^4\"), row=2, col=2)\n",
    "\n",
    "fig.update_layout(height=600, width=800, title_text=\"Wykresy funkcji\")\n",
    "\n",
    "fig.show()"
   ]
  },
  {
   "cell_type": "code",
   "execution_count": null,
   "id": "1c350340-407e-4288-a92c-7ee4a00e2280",
   "metadata": {},
   "outputs": [],
   "source": []
  }
 ],
 "metadata": {
  "kernelspec": {
   "display_name": "Python 3.9.13 ('base')",
   "language": "python",
   "name": "python3"
  },
  "language_info": {
   "codemirror_mode": {
    "name": "ipython",
    "version": 3
   },
   "file_extension": ".py",
   "mimetype": "text/x-python",
   "name": "python",
   "nbconvert_exporter": "python",
   "pygments_lexer": "ipython3",
   "version": "3.9.13"
  },
  "vscode": {
   "interpreter": {
    "hash": "3d597f4c481aa0f25dceb95d2a0067e73c0966dcbd003d741d821a7208527ecf"
   }
  }
 },
 "nbformat": 4,
 "nbformat_minor": 5
}
