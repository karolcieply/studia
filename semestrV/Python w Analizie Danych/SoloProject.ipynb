{
 "cells": [
  {
   "cell_type": "code",
   "execution_count": null,
   "metadata": {},
   "outputs": [],
   "source": [
    "import pandas as pd\n",
    "import numpy as np\n",
    "import seaborn as sns\n",
    "import matplotlib.pyplot as plt\n",
    "import logging\n",
    "import bar_chart_race as bcr\n",
    "from matplotlib.animation import FuncAnimation\n",
    "from IPython.display import HTML"
   ]
  },
  {
   "cell_type": "code",
   "execution_count": null,
   "metadata": {},
   "outputs": [],
   "source": [
    "sns.set(style=\"darkgrid\")\n",
    "COLOR_PALETTE = \"Paired\"\n",
    "def prepare_colors(n):\n",
    "    return sns.color_palette(COLOR_PALETTE)[:n]"
   ]
  },
  {
   "cell_type": "code",
   "execution_count": null,
   "metadata": {},
   "outputs": [],
   "source": [
    "df = pd.read_csv(\"Most Popular Programming Languages from 2004 to 2022.csv\")\n",
    "df[\"Date\"] = pd.to_datetime(df[\"Date\"])\n",
    "df = df.set_index(\"Date\")"
   ]
  },
  {
   "cell_type": "code",
   "execution_count": null,
   "metadata": {},
   "outputs": [],
   "source": [
    "mean_of_usage = {col: df[col].mean() for col in df.columns[1:]}\n",
    "mean_of_usage = dict(sorted(mean_of_usage.items(), key=lambda x: x[1], reverse=True))\n",
    "top_languages = {key: value for index, (key, value) in enumerate(mean_of_usage.items()) if index <10}\n",
    "top_languages[\"inne\"] = sum([value for index, value in enumerate(mean_of_usage.values()) if index >= 10])\n",
    "top_languages_labels = [f\"{key}, {value.round(2)}%\" for key, value in top_languages.items()]\n",
    "plt.figure(figsize=(20,10))\n",
    "plt.subplot(1,2,1)\n",
    "sns.barplot(y=list(mean_of_usage.keys()), x=list(mean_of_usage.values()), palette=prepare_colors(len(mean_of_usage)))\n",
    "plt.title(\"Średnia popularność języków programowania\")\n",
    "plt.xlabel(\"Średnia popularność w %\")\n",
    "plt.ylabel(\"Język programowania\")\n",
    "plt.subplot(1, 2, 2)\n",
    "plt.title(\"Średnia popularność języków programowania\")\n",
    "a = plt.pie(top_languages.values(), labels=top_languages_labels, colors=prepare_colors(len(top_languages)))\n"
   ]
  },
  {
   "cell_type": "code",
   "execution_count": null,
   "metadata": {},
   "outputs": [],
   "source": [
    "plot_colors = prepare_colors(10)\n",
    "plt.figure(figsize=(20,10))\n",
    "for index, value in enumerate(mean_of_usage.keys()):\n",
    "    if index == 10:\n",
    "        break\n",
    "    plt.plot(df.index, df[value], label=value, color=plot_colors[index])\n",
    "    plt.legend()\n",
    "plt.title(\"Popularność języków na przestrzeni lat\")\n",
    "plt.xlabel(\"Rok\")\n",
    "plt.ylabel(\"Popularność w %\")\n",
    "\n",
    "plt.legend(loc=\"upper left\")\n",
    "plt.show()\n",
    "\n"
   ]
  },
  {
   "cell_type": "code",
   "execution_count": null,
   "metadata": {},
   "outputs": [],
   "source": [
    "plot_colors = prepare_colors(10)\n",
    "top10_language = top_languages.keys()\n",
    "\n",
    "fig = plt.figure(figsize=(10, 8))\n",
    "\n",
    "ax = fig.add_subplot(1, 1, 1)\n",
    "\n",
    "\n",
    "def animate(i):\n",
    "    top10_value = []\n",
    "    for key in top10_language:\n",
    "        if key != \"inne\":\n",
    "            top10_value.append(df[key][i])\n",
    "        else:\n",
    "            top10_value.append(sum(df[[x for x in df.columns if x not in top10_language]].iloc[i]))\n",
    "    top10_value = tuple(top10_value)\n",
    "    date_bar = df.index[i].strftime(\"%Y %B\")\n",
    "    ax.cla()\n",
    "    ax.pie(top10_value, labels=top10_language, colors=plot_colors)\n",
    "    ax.set_title(f\"Popularność w miesiącu: {date_bar}\", loc=\"left\")\n",
    "\n",
    "\n",
    "ani = FuncAnimation(fig, animate, repeat=False, frames=len(df))\n",
    "\n",
    "%time ani.save(\"donut_animation.gif\", fps=5)\n",
    "plt.close()"
   ]
  },
  {
   "cell_type": "code",
   "execution_count": null,
   "metadata": {},
   "outputs": [],
   "source": [
    "HTML(\"<img src='donut_animation.gif'>\")"
   ]
  },
  {
   "cell_type": "code",
   "execution_count": null,
   "metadata": {},
   "outputs": [],
   "source": [
    "bcr.bar_chart_race(df=df, n_bars=20, figsize=(20,10), filename=None, title=\"Popularność języków programowania na przestrzeni lat\")"
   ]
  }
 ],
 "metadata": {
  "kernelspec": {
   "display_name": "Python 3.9.13 ('base')",
   "language": "python",
   "name": "python3"
  },
  "language_info": {
   "codemirror_mode": {
    "name": "ipython",
    "version": 3
   },
   "file_extension": ".py",
   "mimetype": "text/x-python",
   "name": "python",
   "nbconvert_exporter": "python",
   "pygments_lexer": "ipython3",
   "version": "3.9.13"
  },
  "orig_nbformat": 4,
  "vscode": {
   "interpreter": {
    "hash": "3d597f4c481aa0f25dceb95d2a0067e73c0966dcbd003d741d821a7208527ecf"
   }
  }
 },
 "nbformat": 4,
 "nbformat_minor": 2
}
