{
 "cells": [
  {
   "cell_type": "code",
   "execution_count": 1,
   "metadata": {},
   "outputs": [],
   "source": [
    "import  numpy as np"
   ]
  },
  {
   "cell_type": "code",
   "execution_count": 4,
   "metadata": {},
   "outputs": [
    {
     "data": {
      "text/plain": [
       "array([10, 20, 30, 40, 50, 60, 70, 80, 90])"
      ]
     },
     "execution_count": 4,
     "metadata": {},
     "output_type": "execute_result"
    }
   ],
   "source": [
    "input_array = np.array([10,20,30])\n",
    "def z1(input_array):\n",
    "    return np.append(input_array, [40,50,60,70,80,90])\n",
    "z1(input_array)"
   ]
  },
  {
   "cell_type": "code",
   "execution_count": 41,
   "metadata": {},
   "outputs": [
    {
     "data": {
      "text/plain": [
       "array([[0, 1, 0, 1, 0, 1, 0, 1],\n",
       "       [1, 0, 1, 0, 1, 0, 1, 0],\n",
       "       [0, 1, 0, 1, 0, 1, 0, 1],\n",
       "       [1, 0, 1, 0, 1, 0, 1, 0],\n",
       "       [0, 1, 0, 1, 0, 1, 0, 1]])"
      ]
     },
     "execution_count": 41,
     "metadata": {},
     "output_type": "execute_result"
    }
   ],
   "source": [
    "def z2(size):\n",
    "    return np.indices(size).sum(axis=0) % 2\n",
    "z2([8,8])"
   ]
  },
  {
   "cell_type": "code",
   "execution_count": 9,
   "metadata": {},
   "outputs": [
    {
     "data": {
      "text/plain": [
       "array([-17.77777778, -11.11111111,   7.22222222,  -6.11111111,\n",
       "         1.11111111,  37.72777778])"
      ]
     },
     "execution_count": 9,
     "metadata": {},
     "output_type": "execute_result"
    }
   ],
   "source": [
    "input_array = np.array([0,12,45,21,34,99.91])\n",
    "def z3(input_array: np.array):\n",
    "    return (input_array - 32) * 5 / 9\n",
    "z3(input_array)"
   ]
  },
  {
   "cell_type": "code",
   "execution_count": 12,
   "metadata": {},
   "outputs": [
    {
     "data": {
      "text/plain": [
       "array([[4., 0., 0., 0.],\n",
       "       [0., 5., 0., 0.],\n",
       "       [0., 0., 6., 0.],\n",
       "       [0., 0., 0., 7.]])"
      ]
     },
     "execution_count": 12,
     "metadata": {},
     "output_type": "execute_result"
    }
   ],
   "source": [
    "def z4():\n",
    "    output = np.zeros([4,4])\n",
    "    for i in range(4):\n",
    "        output[i,i] = i+4\n",
    "    return output\n",
    "z4()"
   ]
  },
  {
   "cell_type": "code",
   "execution_count": 20,
   "metadata": {},
   "outputs": [
    {
     "data": {
      "text/plain": [
       "array([9, 8, 7, 6, 5, 4, 3, 2, 1])"
      ]
     },
     "execution_count": 20,
     "metadata": {},
     "output_type": "execute_result"
    }
   ],
   "source": [
    "input_array = np.array([[1,2,3],[4,5,6],[7,8,9]])\n",
    "def z5(input_array):\n",
    "    return np.flip(input_array.reshape(9))\n",
    "z5(input_array)"
   ]
  },
  {
   "cell_type": "code",
   "execution_count": 33,
   "metadata": {},
   "outputs": [
    {
     "data": {
      "text/plain": [
       "array([ 2,  4,  8, 10, 14, 16, 20, 22, 26, 28, 32, 34, 38, 40, 44, 46, 50,\n",
       "       52, 56, 58, 62, 64, 68, 70, 74, 76, 80, 82, 86, 88, 92, 94, 98])"
      ]
     },
     "execution_count": 33,
     "metadata": {},
     "output_type": "execute_result"
    }
   ],
   "source": [
    "input_array = np.arange(0,100).reshape([10,10])\n",
    "def z6(input_array):\n",
    "    return input_array[np.logical_and(input_array % 2 == 0, input_array % 3 != 0)]\n",
    "z6(input_array)\n"
   ]
  },
  {
   "cell_type": "code",
   "execution_count": 40,
   "metadata": {},
   "outputs": [
    {
     "data": {
      "text/plain": [
       "(array([[2, 3, 2, 0, 0, 4, 8, 0, 4, 5],\n",
       "        [1, 1, 9, 7, 2, 2, 3, 3, 5, 9],\n",
       "        [5, 3, 2, 1, 4, 7, 4, 6, 3, 6],\n",
       "        [1, 2, 4, 9, 2, 8, 9, 3, 7, 7],\n",
       "        [0, 3, 3, 2, 8, 3, 5, 7, 1, 1],\n",
       "        [7, 9, 0, 7, 0, 9, 7, 6, 7, 6],\n",
       "        [0, 0, 4, 6, 8, 5, 8, 1, 2, 2],\n",
       "        [4, 5, 4, 4, 5, 3, 5, 8, 5, 1],\n",
       "        [8, 3, 4, 3, 1, 5, 3, 6, 4, 9],\n",
       "        [4, 9, 6, 9, 0, 3, 8, 8, 2, 3]]),\n",
       " -84793074.0000002)"
      ]
     },
     "execution_count": 40,
     "metadata": {},
     "output_type": "execute_result"
    }
   ],
   "source": [
    "def z7(min_value = 0, max_value= 1, wyznacznik = 0):\n",
    "    output = np.random.randint(min_value, max_value, [10, 10])\n",
    "    return output, np.linalg.det(output) \n",
    "z7(max_value=10)"
   ]
  }
 ],
 "metadata": {
  "kernelspec": {
   "display_name": "Python 3.9.12 ('base')",
   "language": "python",
   "name": "python3"
  },
  "language_info": {
   "codemirror_mode": {
    "name": "ipython",
    "version": 3
   },
   "file_extension": ".py",
   "mimetype": "text/x-python",
   "name": "python",
   "nbconvert_exporter": "python",
   "pygments_lexer": "ipython3",
   "version": "3.9.13"
  },
  "orig_nbformat": 4,
  "vscode": {
   "interpreter": {
    "hash": "3d597f4c481aa0f25dceb95d2a0067e73c0966dcbd003d741d821a7208527ecf"
   }
  }
 },
 "nbformat": 4,
 "nbformat_minor": 2
}
